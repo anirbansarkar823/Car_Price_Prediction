{
 "cells": [
  {
   "cell_type": "code",
   "execution_count": 1,
   "id": "88b274e4",
   "metadata": {
    "_cell_guid": "b1076dfc-b9ad-4769-8c92-a6c4dae69d19",
    "_uuid": "8f2839f25d086af736a60e9eeb907d3b93b6e0e5",
    "execution": {
     "iopub.execute_input": "2021-09-14T15:33:42.130562Z",
     "iopub.status.busy": "2021-09-14T15:33:42.129694Z",
     "iopub.status.idle": "2021-09-14T15:33:42.144574Z",
     "shell.execute_reply": "2021-09-14T15:33:42.144035Z",
     "shell.execute_reply.started": "2021-09-14T15:26:12.785479Z"
    },
    "papermill": {
     "duration": 0.138677,
     "end_time": "2021-09-14T15:33:42.144723",
     "exception": false,
     "start_time": "2021-09-14T15:33:42.006046",
     "status": "completed"
    },
    "tags": []
   },
   "outputs": [
    {
     "name": "stdout",
     "output_type": "stream",
     "text": [
      "/kaggle/input/vehicle-dataset-from-cardekho/car data.csv\n",
      "/kaggle/input/vehicle-dataset-from-cardekho/CAR DETAILS FROM CAR DEKHO.csv\n",
      "/kaggle/input/vehicle-dataset-from-cardekho/Car details v3.csv\n"
     ]
    }
   ],
   "source": [
    "# This Python 3 environment comes with many helpful analytics libraries installed\n",
    "# It is defined by the kaggle/python Docker image: https://github.com/kaggle/docker-python\n",
    "# For example, here's several helpful packages to load\n",
    "\n",
    "import numpy as np # linear algebra\n",
    "import pandas as pd # data processing, CSV file I/O (e.g. pd.read_csv)\n",
    "\n",
    "# Input data files are available in the read-only \"../input/\" directory\n",
    "# For example, running this (by clicking run or pressing Shift+Enter) will list all files under the input directory\n",
    "\n",
    "import os\n",
    "for dirname, _, filenames in os.walk('/kaggle/input'):\n",
    "    for filename in filenames:\n",
    "        print(os.path.join(dirname, filename))\n",
    "\n",
    "# You can write up to 20GB to the current directory (/kaggle/working/) that gets preserved as output when you create a version using \"Save & Run All\" \n",
    "# You can also write temporary files to /kaggle/temp/, but they won't be saved outside of the current session"
   ]
  },
  {
   "cell_type": "markdown",
   "id": "28d1bb71",
   "metadata": {
    "papermill": {
     "duration": 0.043237,
     "end_time": "2021-09-14T15:33:42.232631",
     "exception": false,
     "start_time": "2021-09-14T15:33:42.189394",
     "status": "completed"
    },
    "tags": []
   },
   "source": [
    "## Steps I followed:\n",
    "1. Importing data\n",
    "2. Cleaning data and data exploration\n",
    "3. Feature engineering (choosing required features)\n",
    "4. Data visualization\n",
    "5. Finding if there exists corr among variables\n",
    "6. train test split\n",
    "7. Model building and Hyper-parameter tuning\n",
    "8. using various sklearn.metrics : mean_absolute_error, mean_squared_error, np.sqrt(mean_squared_error)\n",
    "9. converting the model to pickle file for future use"
   ]
  },
  {
   "cell_type": "code",
   "execution_count": 2,
   "id": "0580ec03",
   "metadata": {
    "execution": {
     "iopub.execute_input": "2021-09-14T15:33:42.324883Z",
     "iopub.status.busy": "2021-09-14T15:33:42.324378Z",
     "iopub.status.idle": "2021-09-14T15:33:43.338581Z",
     "shell.execute_reply": "2021-09-14T15:33:43.338119Z",
     "shell.execute_reply.started": "2021-09-14T15:26:12.901281Z"
    },
    "papermill": {
     "duration": 1.061899,
     "end_time": "2021-09-14T15:33:43.338712",
     "exception": false,
     "start_time": "2021-09-14T15:33:42.276813",
     "status": "completed"
    },
    "tags": []
   },
   "outputs": [],
   "source": [
    "# Importing Dependencies\n",
    "import pandas as pd\n",
    "import seaborn as sns\n",
    "import matplotlib.pyplot as plt\n",
    "from sklearn.model_selection import train_test_split\n",
    "from sklearn.linear_model import LinearRegression\n",
    "from sklearn.linear_model import Lasso\n",
    "from sklearn.ensemble import RandomForestRegressor, ExtraTreesRegressor\n",
    "from sklearn.preprocessing import MinMaxScaler\n",
    "from sklearn.preprocessing import OneHotEncoder\n",
    "from sklearn.preprocessing import LabelEncoder\n",
    "from sklearn.feature_selection import SelectFromModel\n",
    "import xgboost as xgb\n",
    "from sklearn.model_selection import RandomizedSearchCV\n",
    "from sklearn import metrics"
   ]
  },
  {
   "cell_type": "code",
   "execution_count": 3,
   "id": "7c9d9bc9",
   "metadata": {
    "execution": {
     "iopub.execute_input": "2021-09-14T15:33:43.430543Z",
     "iopub.status.busy": "2021-09-14T15:33:43.429839Z",
     "iopub.status.idle": "2021-09-14T15:33:43.443371Z",
     "shell.execute_reply": "2021-09-14T15:33:43.442956Z",
     "shell.execute_reply.started": "2021-09-14T15:26:14.359775Z"
    },
    "papermill": {
     "duration": 0.060621,
     "end_time": "2021-09-14T15:33:43.443479",
     "exception": false,
     "start_time": "2021-09-14T15:33:43.382858",
     "status": "completed"
    },
    "tags": []
   },
   "outputs": [],
   "source": [
    "# Importing data\n",
    "dataset = pd.read_csv(\"../input/vehicle-dataset-from-cardekho/car data.csv\")"
   ]
  },
  {
   "cell_type": "markdown",
   "id": "a14b7ad2",
   "metadata": {
    "papermill": {
     "duration": 0.043306,
     "end_time": "2021-09-14T15:33:43.530616",
     "exception": false,
     "start_time": "2021-09-14T15:33:43.487310",
     "status": "completed"
    },
    "tags": []
   },
   "source": [
    "# About features\n",
    "1. **name** - Name of the cars\n",
    "2. **year** - Year of the car when it was bought\n",
    "3. **selling_price** - Price at which the car is being sold\n",
    "4. **km_driven** - Number of Kilometres the car is driven\n",
    "5. **fuel** - Fuel type of car\n",
    "6. **seller_type** - tells if a seller is individual or a dealer\n",
    "7. **transmission** - Gear transmission fo the car\n",
    "8. **owner** - Number of previous owners of the car"
   ]
  },
  {
   "cell_type": "code",
   "execution_count": 4,
   "id": "34ab3713",
   "metadata": {
    "execution": {
     "iopub.execute_input": "2021-09-14T15:33:43.625667Z",
     "iopub.status.busy": "2021-09-14T15:33:43.620906Z",
     "iopub.status.idle": "2021-09-14T15:33:43.642591Z",
     "shell.execute_reply": "2021-09-14T15:33:43.643075Z",
     "shell.execute_reply.started": "2021-09-14T15:26:14.380423Z"
    },
    "papermill": {
     "duration": 0.069373,
     "end_time": "2021-09-14T15:33:43.643203",
     "exception": false,
     "start_time": "2021-09-14T15:33:43.573830",
     "status": "completed"
    },
    "tags": []
   },
   "outputs": [
    {
     "data": {
      "text/html": [
       "<div>\n",
       "<style scoped>\n",
       "    .dataframe tbody tr th:only-of-type {\n",
       "        vertical-align: middle;\n",
       "    }\n",
       "\n",
       "    .dataframe tbody tr th {\n",
       "        vertical-align: top;\n",
       "    }\n",
       "\n",
       "    .dataframe thead th {\n",
       "        text-align: right;\n",
       "    }\n",
       "</style>\n",
       "<table border=\"1\" class=\"dataframe\">\n",
       "  <thead>\n",
       "    <tr style=\"text-align: right;\">\n",
       "      <th></th>\n",
       "      <th>Car_Name</th>\n",
       "      <th>Year</th>\n",
       "      <th>Selling_Price</th>\n",
       "      <th>Present_Price</th>\n",
       "      <th>Kms_Driven</th>\n",
       "      <th>Fuel_Type</th>\n",
       "      <th>Seller_Type</th>\n",
       "      <th>Transmission</th>\n",
       "      <th>Owner</th>\n",
       "    </tr>\n",
       "  </thead>\n",
       "  <tbody>\n",
       "    <tr>\n",
       "      <th>0</th>\n",
       "      <td>ritz</td>\n",
       "      <td>2014</td>\n",
       "      <td>3.35</td>\n",
       "      <td>5.59</td>\n",
       "      <td>27000</td>\n",
       "      <td>Petrol</td>\n",
       "      <td>Dealer</td>\n",
       "      <td>Manual</td>\n",
       "      <td>0</td>\n",
       "    </tr>\n",
       "    <tr>\n",
       "      <th>1</th>\n",
       "      <td>sx4</td>\n",
       "      <td>2013</td>\n",
       "      <td>4.75</td>\n",
       "      <td>9.54</td>\n",
       "      <td>43000</td>\n",
       "      <td>Diesel</td>\n",
       "      <td>Dealer</td>\n",
       "      <td>Manual</td>\n",
       "      <td>0</td>\n",
       "    </tr>\n",
       "    <tr>\n",
       "      <th>2</th>\n",
       "      <td>ciaz</td>\n",
       "      <td>2017</td>\n",
       "      <td>7.25</td>\n",
       "      <td>9.85</td>\n",
       "      <td>6900</td>\n",
       "      <td>Petrol</td>\n",
       "      <td>Dealer</td>\n",
       "      <td>Manual</td>\n",
       "      <td>0</td>\n",
       "    </tr>\n",
       "    <tr>\n",
       "      <th>3</th>\n",
       "      <td>wagon r</td>\n",
       "      <td>2011</td>\n",
       "      <td>2.85</td>\n",
       "      <td>4.15</td>\n",
       "      <td>5200</td>\n",
       "      <td>Petrol</td>\n",
       "      <td>Dealer</td>\n",
       "      <td>Manual</td>\n",
       "      <td>0</td>\n",
       "    </tr>\n",
       "    <tr>\n",
       "      <th>4</th>\n",
       "      <td>swift</td>\n",
       "      <td>2014</td>\n",
       "      <td>4.60</td>\n",
       "      <td>6.87</td>\n",
       "      <td>42450</td>\n",
       "      <td>Diesel</td>\n",
       "      <td>Dealer</td>\n",
       "      <td>Manual</td>\n",
       "      <td>0</td>\n",
       "    </tr>\n",
       "  </tbody>\n",
       "</table>\n",
       "</div>"
      ],
      "text/plain": [
       "  Car_Name  Year  Selling_Price  Present_Price  Kms_Driven Fuel_Type  \\\n",
       "0     ritz  2014           3.35           5.59       27000    Petrol   \n",
       "1      sx4  2013           4.75           9.54       43000    Diesel   \n",
       "2     ciaz  2017           7.25           9.85        6900    Petrol   \n",
       "3  wagon r  2011           2.85           4.15        5200    Petrol   \n",
       "4    swift  2014           4.60           6.87       42450    Diesel   \n",
       "\n",
       "  Seller_Type Transmission  Owner  \n",
       "0      Dealer       Manual      0  \n",
       "1      Dealer       Manual      0  \n",
       "2      Dealer       Manual      0  \n",
       "3      Dealer       Manual      0  \n",
       "4      Dealer       Manual      0  "
      ]
     },
     "execution_count": 4,
     "metadata": {},
     "output_type": "execute_result"
    }
   ],
   "source": [
    "# top 5-rows of dataset\n",
    "dataset.head()"
   ]
  },
  {
   "cell_type": "code",
   "execution_count": 5,
   "id": "eee5351f",
   "metadata": {
    "execution": {
     "iopub.execute_input": "2021-09-14T15:33:43.748270Z",
     "iopub.status.busy": "2021-09-14T15:33:43.739553Z",
     "iopub.status.idle": "2021-09-14T15:33:43.752135Z",
     "shell.execute_reply": "2021-09-14T15:33:43.752530Z",
     "shell.execute_reply.started": "2021-09-14T15:26:14.411134Z"
    },
    "papermill": {
     "duration": 0.06439,
     "end_time": "2021-09-14T15:33:43.752682",
     "exception": false,
     "start_time": "2021-09-14T15:33:43.688292",
     "status": "completed"
    },
    "tags": []
   },
   "outputs": [
    {
     "name": "stdout",
     "output_type": "stream",
     "text": [
      "<class 'pandas.core.frame.DataFrame'>\n",
      "RangeIndex: 301 entries, 0 to 300\n",
      "Data columns (total 9 columns):\n",
      " #   Column         Non-Null Count  Dtype  \n",
      "---  ------         --------------  -----  \n",
      " 0   Car_Name       301 non-null    object \n",
      " 1   Year           301 non-null    int64  \n",
      " 2   Selling_Price  301 non-null    float64\n",
      " 3   Present_Price  301 non-null    float64\n",
      " 4   Kms_Driven     301 non-null    int64  \n",
      " 5   Fuel_Type      301 non-null    object \n",
      " 6   Seller_Type    301 non-null    object \n",
      " 7   Transmission   301 non-null    object \n",
      " 8   Owner          301 non-null    int64  \n",
      "dtypes: float64(2), int64(3), object(4)\n",
      "memory usage: 21.3+ KB\n"
     ]
    }
   ],
   "source": [
    "# getting more familier with the dataset\n",
    "dataset.info()"
   ]
  },
  {
   "cell_type": "markdown",
   "id": "77eb4373",
   "metadata": {
    "papermill": {
     "duration": 0.043967,
     "end_time": "2021-09-14T15:33:43.842323",
     "exception": false,
     "start_time": "2021-09-14T15:33:43.798356",
     "status": "completed"
    },
    "tags": []
   },
   "source": [
    "### Selling_Price is the target feature"
   ]
  },
  {
   "cell_type": "markdown",
   "id": "ef72ceff",
   "metadata": {
    "papermill": {
     "duration": 0.043935,
     "end_time": "2021-09-14T15:33:43.930328",
     "exception": false,
     "start_time": "2021-09-14T15:33:43.886393",
     "status": "completed"
    },
    "tags": []
   },
   "source": [
    "# Missing Values"
   ]
  },
  {
   "cell_type": "code",
   "execution_count": 6,
   "id": "4683709f",
   "metadata": {
    "execution": {
     "iopub.execute_input": "2021-09-14T15:33:44.025027Z",
     "iopub.status.busy": "2021-09-14T15:33:44.024506Z",
     "iopub.status.idle": "2021-09-14T15:33:44.028502Z",
     "shell.execute_reply": "2021-09-14T15:33:44.028851Z",
     "shell.execute_reply.started": "2021-09-14T15:26:14.432083Z"
    },
    "papermill": {
     "duration": 0.054572,
     "end_time": "2021-09-14T15:33:44.028984",
     "exception": false,
     "start_time": "2021-09-14T15:33:43.974412",
     "status": "completed"
    },
    "tags": []
   },
   "outputs": [
    {
     "data": {
      "text/plain": [
       "Car_Name         0\n",
       "Year             0\n",
       "Selling_Price    0\n",
       "Present_Price    0\n",
       "Kms_Driven       0\n",
       "Fuel_Type        0\n",
       "Seller_Type      0\n",
       "Transmission     0\n",
       "Owner            0\n",
       "dtype: int64"
      ]
     },
     "execution_count": 6,
     "metadata": {},
     "output_type": "execute_result"
    }
   ],
   "source": [
    "# Checking if there is any missing value\n",
    "dataset.isnull().sum()"
   ]
  },
  {
   "cell_type": "markdown",
   "id": "7fec97df",
   "metadata": {
    "papermill": {
     "duration": 0.046667,
     "end_time": "2021-09-14T15:33:44.120074",
     "exception": false,
     "start_time": "2021-09-14T15:33:44.073407",
     "status": "completed"
    },
    "tags": []
   },
   "source": [
    "# Categorical Variable Encoding"
   ]
  },
  {
   "cell_type": "code",
   "execution_count": 7,
   "id": "7a94a013",
   "metadata": {
    "execution": {
     "iopub.execute_input": "2021-09-14T15:33:44.214550Z",
     "iopub.status.busy": "2021-09-14T15:33:44.213893Z",
     "iopub.status.idle": "2021-09-14T15:33:44.216415Z",
     "shell.execute_reply": "2021-09-14T15:33:44.216867Z",
     "shell.execute_reply.started": "2021-09-14T15:26:14.445699Z"
    },
    "papermill": {
     "duration": 0.052244,
     "end_time": "2021-09-14T15:33:44.216994",
     "exception": false,
     "start_time": "2021-09-14T15:33:44.164750",
     "status": "completed"
    },
    "tags": []
   },
   "outputs": [
    {
     "data": {
      "text/plain": [
       "['Car_Name', 'Fuel_Type', 'Seller_Type', 'Transmission']"
      ]
     },
     "execution_count": 7,
     "metadata": {},
     "output_type": "execute_result"
    }
   ],
   "source": [
    "cat_features = [feature for feature in dataset.columns if dataset[feature].dtypes in ['object']]\n",
    "cat_features"
   ]
  },
  {
   "cell_type": "markdown",
   "id": "59982059",
   "metadata": {
    "papermill": {
     "duration": 0.044848,
     "end_time": "2021-09-14T15:33:44.307107",
     "exception": false,
     "start_time": "2021-09-14T15:33:44.262259",
     "status": "completed"
    },
    "tags": []
   },
   "source": [
    "### Categorical feature distribution with 'Selling_Price'"
   ]
  },
  {
   "cell_type": "code",
   "execution_count": 8,
   "id": "245cee2d",
   "metadata": {
    "execution": {
     "iopub.execute_input": "2021-09-14T15:33:44.400755Z",
     "iopub.status.busy": "2021-09-14T15:33:44.400121Z",
     "iopub.status.idle": "2021-09-14T15:33:44.402630Z",
     "shell.execute_reply": "2021-09-14T15:33:44.403105Z",
     "shell.execute_reply.started": "2021-09-14T15:26:14.458312Z"
    },
    "papermill": {
     "duration": 0.051481,
     "end_time": "2021-09-14T15:33:44.403226",
     "exception": false,
     "start_time": "2021-09-14T15:33:44.351745",
     "status": "completed"
    },
    "tags": []
   },
   "outputs": [
    {
     "data": {
      "text/plain": [
       "(301, 9)"
      ]
     },
     "execution_count": 8,
     "metadata": {},
     "output_type": "execute_result"
    }
   ],
   "source": [
    "dataset.shape"
   ]
  },
  {
   "cell_type": "code",
   "execution_count": 9,
   "id": "d1fa6ce2",
   "metadata": {
    "execution": {
     "iopub.execute_input": "2021-09-14T15:33:44.498125Z",
     "iopub.status.busy": "2021-09-14T15:33:44.497500Z",
     "iopub.status.idle": "2021-09-14T15:33:44.500054Z",
     "shell.execute_reply": "2021-09-14T15:33:44.500478Z",
     "shell.execute_reply.started": "2021-09-14T15:26:14.469409Z"
    },
    "papermill": {
     "duration": 0.052629,
     "end_time": "2021-09-14T15:33:44.500588",
     "exception": false,
     "start_time": "2021-09-14T15:33:44.447959",
     "status": "completed"
    },
    "tags": []
   },
   "outputs": [
    {
     "data": {
      "text/plain": [
       "98"
      ]
     },
     "execution_count": 9,
     "metadata": {},
     "output_type": "execute_result"
    }
   ],
   "source": [
    "dataset.Car_Name.nunique()\n",
    "# There are 98 different features"
   ]
  },
  {
   "cell_type": "code",
   "execution_count": 10,
   "id": "f74e1777",
   "metadata": {
    "execution": {
     "iopub.execute_input": "2021-09-14T15:33:44.597104Z",
     "iopub.status.busy": "2021-09-14T15:33:44.596455Z",
     "iopub.status.idle": "2021-09-14T15:33:46.723460Z",
     "shell.execute_reply": "2021-09-14T15:33:46.724473Z",
     "shell.execute_reply.started": "2021-09-14T15:26:14.484221Z"
    },
    "papermill": {
     "duration": 2.178962,
     "end_time": "2021-09-14T15:33:46.724697",
     "exception": false,
     "start_time": "2021-09-14T15:33:44.545735",
     "status": "completed"
    },
    "tags": []
   },
   "outputs": [
    {
     "data": {
      "image/png": "[encoded data removed]",
      "text/plain": [
       "<Figure size 1080x576 with 1 Axes>"
      ]
     },
     "metadata": {
      "needs_background": "light"
     },
     "output_type": "display_data"
    },
    {
     "data": {
      "image/png": "[encoded data removed]",
      "text/plain": [
       "<Figure size 432x288 with 1 Axes>"
      ]
     },
     "metadata": {
      "needs_background": "light"
     },
     "output_type": "display_data"
    },
    {
     "data": {
      "image/png": "[encoded data removed]",
      "text/plain": [
       "<Figure size 432x288 with 1 Axes>"
      ]
     },
     "metadata": {
      "needs_background": "light"
     },
     "output_type": "display_data"
    },
    {
     "data": {
      "image/png": "[encoded data removed]",
      "text/plain": [
       "<Figure size 432x288 with 1 Axes>"
      ]
     },
     "metadata": {
      "needs_background": "light"
     },
     "output_type": "display_data"
    }
   ],
   "source": [
    "# Mean prices per category of categorical variables\n",
    "plt.figure(figsize=(15,8))\n",
    "for feature in cat_features:\n",
    "    dataset.groupby(feature)['Selling_Price'].mean().plot.bar()\n",
    "    plt.title(feature)\n",
    "    plt.show()"
   ]
  },
  {
   "cell_type": "markdown",
   "id": "508c81c2",
   "metadata": {
    "papermill": {
     "duration": 0.048695,
     "end_time": "2021-09-14T15:33:46.824161",
     "exception": false,
     "start_time": "2021-09-14T15:33:46.775466",
     "status": "completed"
    },
    "tags": []
   },
   "source": [
    "#### Observation of categorical features\n",
    "1. Few car names have higher prices, like 'fortuner', 'innova', 'land cruiser', etc.\n",
    "2. In Fuel_Type, 'Diesel' type cars have higher prices as compared to CNG or Petrol driven cars\n",
    "3. In seller_type, 'Dealer' are selling cars with higher prices than 'Individual'\n",
    "4. And finally, 'Automatic' cars are being sold for higher prices than 'Manual' cars"
   ]
  },
  {
   "cell_type": "code",
   "execution_count": 11,
   "id": "565f7daf",
   "metadata": {
    "execution": {
     "iopub.execute_input": "2021-09-14T15:33:46.994853Z",
     "iopub.status.busy": "2021-09-14T15:33:46.976721Z",
     "iopub.status.idle": "2021-09-14T15:33:49.081177Z",
     "shell.execute_reply": "2021-09-14T15:33:49.080712Z",
     "shell.execute_reply.started": "2021-09-14T15:26:16.568459Z"
    },
    "papermill": {
     "duration": 2.20841,
     "end_time": "2021-09-14T15:33:49.081296",
     "exception": false,
     "start_time": "2021-09-14T15:33:46.872886",
     "status": "completed"
    },
    "tags": []
   },
   "outputs": [
    {
     "data": {
      "image/png": "[encoded data removed]",
      "text/plain": [
       "<Figure size 1080x576 with 1 Axes>"
      ]
     },
     "metadata": {
      "needs_background": "light"
     },
     "output_type": "display_data"
    },
    {
     "data": {
      "image/png": "[encoded data removed]",
      "text/plain": [
       "<Figure size 432x288 with 1 Axes>"
      ]
     },
     "metadata": {
      "needs_background": "light"
     },
     "output_type": "display_data"
    },
    {
     "data": {
      "image/png": "[encoded data removed]",
      "text/plain": [
       "<Figure size 432x288 with 1 Axes>"
      ]
     },
     "metadata": {
      "needs_background": "light"
     },
     "output_type": "display_data"
    },
    {
     "data": {
      "image/png": "[encoded data removed]",
      "text/plain": [
       "<Figure size 432x288 with 1 Axes>"
      ]
     },
     "metadata": {
      "needs_background": "light"
     },
     "output_type": "display_data"
    }
   ],
   "source": [
    "# count of prices per category of categorical variables\n",
    "plt.figure(figsize=(15,8))\n",
    "for feature in cat_features:\n",
    "    dataset.groupby(feature)['Selling_Price'].count().plot.bar()\n",
    "    plt.title(feature)\n",
    "    plt.show()"
   ]
  },
  {
   "cell_type": "markdown",
   "id": "568cc26b",
   "metadata": {
    "papermill": {
     "duration": 0.053283,
     "end_time": "2021-09-14T15:33:49.188568",
     "exception": false,
     "start_time": "2021-09-14T15:33:49.135285",
     "status": "completed"
    },
    "tags": []
   },
   "source": [
    "# Temporal Feature: Features releted to time, date or year"
   ]
  },
  {
   "cell_type": "code",
   "execution_count": 12,
   "id": "c1c2b0ac",
   "metadata": {
    "execution": {
     "iopub.execute_input": "2021-09-14T15:33:49.298589Z",
     "iopub.status.busy": "2021-09-14T15:33:49.298075Z",
     "iopub.status.idle": "2021-09-14T15:33:49.303060Z",
     "shell.execute_reply": "2021-09-14T15:33:49.303434Z",
     "shell.execute_reply.started": "2021-09-14T15:26:18.544283Z"
    },
    "papermill": {
     "duration": 0.062586,
     "end_time": "2021-09-14T15:33:49.303560",
     "exception": false,
     "start_time": "2021-09-14T15:33:49.240974",
     "status": "completed"
    },
    "tags": []
   },
   "outputs": [
    {
     "data": {
      "text/plain": [
       "['Year']"
      ]
     },
     "execution_count": 12,
     "metadata": {},
     "output_type": "execute_result"
    }
   ],
   "source": [
    "temporal_feature = [feature for feature in dataset.columns if 'year' in feature.lower() or 'yr' in feature.lower()]\n",
    "temporal_feature"
   ]
  },
  {
   "cell_type": "markdown",
   "id": "a973801d",
   "metadata": {
    "papermill": {
     "duration": 0.052071,
     "end_time": "2021-09-14T15:33:49.408475",
     "exception": false,
     "start_time": "2021-09-14T15:33:49.356404",
     "status": "completed"
    },
    "tags": []
   },
   "source": [
    "##### Updating the temporal feature with number years since the car was bought"
   ]
  },
  {
   "cell_type": "code",
   "execution_count": 13,
   "id": "903661a7",
   "metadata": {
    "execution": {
     "iopub.execute_input": "2021-09-14T15:33:49.517911Z",
     "iopub.status.busy": "2021-09-14T15:33:49.517217Z",
     "iopub.status.idle": "2021-09-14T15:33:49.530562Z",
     "shell.execute_reply": "2021-09-14T15:33:49.529888Z",
     "shell.execute_reply.started": "2021-09-14T15:26:18.553980Z"
    },
    "papermill": {
     "duration": 0.069801,
     "end_time": "2021-09-14T15:33:49.530665",
     "exception": false,
     "start_time": "2021-09-14T15:33:49.460864",
     "status": "completed"
    },
    "tags": []
   },
   "outputs": [],
   "source": [
    "for feature in temporal_feature:\n",
    "    dataset[feature] = 2021 - dataset[feature]"
   ]
  },
  {
   "cell_type": "code",
   "execution_count": 14,
   "id": "47b34c84",
   "metadata": {
    "execution": {
     "iopub.execute_input": "2021-09-14T15:33:49.650720Z",
     "iopub.status.busy": "2021-09-14T15:33:49.650076Z",
     "iopub.status.idle": "2021-09-14T15:33:49.653117Z",
     "shell.execute_reply": "2021-09-14T15:33:49.653497Z",
     "shell.execute_reply.started": "2021-09-14T15:26:18.578171Z"
    },
    "papermill": {
     "duration": 0.069089,
     "end_time": "2021-09-14T15:33:49.653632",
     "exception": false,
     "start_time": "2021-09-14T15:33:49.584543",
     "status": "completed"
    },
    "tags": []
   },
   "outputs": [
    {
     "data": {
      "text/html": [
       "<div>\n",
       "<style scoped>\n",
       "    .dataframe tbody tr th:only-of-type {\n",
       "        vertical-align: middle;\n",
       "    }\n",
       "\n",
       "    .dataframe tbody tr th {\n",
       "        vertical-align: top;\n",
       "    }\n",
       "\n",
       "    .dataframe thead th {\n",
       "        text-align: right;\n",
       "    }\n",
       "</style>\n",
       "<table border=\"1\" class=\"dataframe\">\n",
       "  <thead>\n",
       "    <tr style=\"text-align: right;\">\n",
       "      <th></th>\n",
       "      <th>Car_Name</th>\n",
       "      <th>Year</th>\n",
       "      <th>Selling_Price</th>\n",
       "      <th>Present_Price</th>\n",
       "      <th>Kms_Driven</th>\n",
       "      <th>Fuel_Type</th>\n",
       "      <th>Seller_Type</th>\n",
       "      <th>Transmission</th>\n",
       "      <th>Owner</th>\n",
       "    </tr>\n",
       "  </thead>\n",
       "  <tbody>\n",
       "    <tr>\n",
       "      <th>0</th>\n",
       "      <td>ritz</td>\n",
       "      <td>7</td>\n",
       "      <td>3.35</td>\n",
       "      <td>5.59</td>\n",
       "      <td>27000</td>\n",
       "      <td>Petrol</td>\n",
       "      <td>Dealer</td>\n",
       "      <td>Manual</td>\n",
       "      <td>0</td>\n",
       "    </tr>\n",
       "    <tr>\n",
       "      <th>1</th>\n",
       "      <td>sx4</td>\n",
       "      <td>8</td>\n",
       "      <td>4.75</td>\n",
       "      <td>9.54</td>\n",
       "      <td>43000</td>\n",
       "      <td>Diesel</td>\n",
       "      <td>Dealer</td>\n",
       "      <td>Manual</td>\n",
       "      <td>0</td>\n",
       "    </tr>\n",
       "    <tr>\n",
       "      <th>2</th>\n",
       "      <td>ciaz</td>\n",
       "      <td>4</td>\n",
       "      <td>7.25</td>\n",
       "      <td>9.85</td>\n",
       "      <td>6900</td>\n",
       "      <td>Petrol</td>\n",
       "      <td>Dealer</td>\n",
       "      <td>Manual</td>\n",
       "      <td>0</td>\n",
       "    </tr>\n",
       "    <tr>\n",
       "      <th>3</th>\n",
       "      <td>wagon r</td>\n",
       "      <td>10</td>\n",
       "      <td>2.85</td>\n",
       "      <td>4.15</td>\n",
       "      <td>5200</td>\n",
       "      <td>Petrol</td>\n",
       "      <td>Dealer</td>\n",
       "      <td>Manual</td>\n",
       "      <td>0</td>\n",
       "    </tr>\n",
       "    <tr>\n",
       "      <th>4</th>\n",
       "      <td>swift</td>\n",
       "      <td>7</td>\n",
       "      <td>4.60</td>\n",
       "      <td>6.87</td>\n",
       "      <td>42450</td>\n",
       "      <td>Diesel</td>\n",
       "      <td>Dealer</td>\n",
       "      <td>Manual</td>\n",
       "      <td>0</td>\n",
       "    </tr>\n",
       "  </tbody>\n",
       "</table>\n",
       "</div>"
      ],
      "text/plain": [
       "  Car_Name  Year  Selling_Price  Present_Price  Kms_Driven Fuel_Type  \\\n",
       "0     ritz     7           3.35           5.59       27000    Petrol   \n",
       "1      sx4     8           4.75           9.54       43000    Diesel   \n",
       "2     ciaz     4           7.25           9.85        6900    Petrol   \n",
       "3  wagon r    10           2.85           4.15        5200    Petrol   \n",
       "4    swift     7           4.60           6.87       42450    Diesel   \n",
       "\n",
       "  Seller_Type Transmission  Owner  \n",
       "0      Dealer       Manual      0  \n",
       "1      Dealer       Manual      0  \n",
       "2      Dealer       Manual      0  \n",
       "3      Dealer       Manual      0  \n",
       "4      Dealer       Manual      0  "
      ]
     },
     "execution_count": 14,
     "metadata": {},
     "output_type": "execute_result"
    }
   ],
   "source": [
    "dataset.head()"
   ]
  },
  {
   "cell_type": "markdown",
   "id": "2c43f64b",
   "metadata": {
    "papermill": {
     "duration": 0.053214,
     "end_time": "2021-09-14T15:33:49.763080",
     "exception": false,
     "start_time": "2021-09-14T15:33:49.709866",
     "status": "completed"
    },
    "tags": []
   },
   "source": [
    "#### Now 'year' variable represents the number of years passed since the car was bought"
   ]
  },
  {
   "cell_type": "markdown",
   "id": "a95375ff",
   "metadata": {
    "papermill": {
     "duration": 0.052625,
     "end_time": "2021-09-14T15:33:49.868767",
     "exception": false,
     "start_time": "2021-09-14T15:33:49.816142",
     "status": "completed"
    },
    "tags": []
   },
   "source": [
    "# Numerical Variables"
   ]
  },
  {
   "cell_type": "markdown",
   "id": "6b76bf5c",
   "metadata": {
    "papermill": {
     "duration": 0.053113,
     "end_time": "2021-09-14T15:33:49.975345",
     "exception": false,
     "start_time": "2021-09-14T15:33:49.922232",
     "status": "completed"
    },
    "tags": []
   },
   "source": [
    "##### finding correlation between all the numerical values with target variable Selling_Price"
   ]
  },
  {
   "cell_type": "code",
   "execution_count": 15,
   "id": "02675e8b",
   "metadata": {
    "execution": {
     "iopub.execute_input": "2021-09-14T15:33:50.090386Z",
     "iopub.status.busy": "2021-09-14T15:33:50.089651Z",
     "iopub.status.idle": "2021-09-14T15:33:50.093635Z",
     "shell.execute_reply": "2021-09-14T15:33:50.094012Z",
     "shell.execute_reply.started": "2021-09-14T15:26:18.594927Z"
    },
    "papermill": {
     "duration": 0.066029,
     "end_time": "2021-09-14T15:33:50.094142",
     "exception": false,
     "start_time": "2021-09-14T15:33:50.028113",
     "status": "completed"
    },
    "tags": []
   },
   "outputs": [
    {
     "data": {
      "text/plain": [
       "Year            -0.236141\n",
       "Present_Price    0.878983\n",
       "Kms_Driven       0.029187\n",
       "Owner           -0.088344\n",
       "Name: Selling_Price, dtype: float64"
      ]
     },
     "execution_count": 15,
     "metadata": {},
     "output_type": "execute_result"
    }
   ],
   "source": [
    "dataset.corr()['Selling_Price'].drop('Selling_Price', axis=0) # pandas.core.frame.DataFrame"
   ]
  },
  {
   "cell_type": "markdown",
   "id": "4e6e46b6",
   "metadata": {
    "papermill": {
     "duration": 0.053075,
     "end_time": "2021-09-14T15:33:50.202102",
     "exception": false,
     "start_time": "2021-09-14T15:33:50.149027",
     "status": "completed"
    },
    "tags": []
   },
   "source": [
    "##### Observation: The Selling_Price is linearly directly correlated with Present_Price"
   ]
  },
  {
   "cell_type": "code",
   "execution_count": 16,
   "id": "ad25dcb4",
   "metadata": {
    "execution": {
     "iopub.execute_input": "2021-09-14T15:33:50.320077Z",
     "iopub.status.busy": "2021-09-14T15:33:50.319482Z",
     "iopub.status.idle": "2021-09-14T15:33:50.322476Z",
     "shell.execute_reply": "2021-09-14T15:33:50.322862Z",
     "shell.execute_reply.started": "2021-09-14T15:26:18.610954Z"
    },
    "papermill": {
     "duration": 0.067774,
     "end_time": "2021-09-14T15:33:50.322996",
     "exception": false,
     "start_time": "2021-09-14T15:33:50.255222",
     "status": "completed"
    },
    "tags": []
   },
   "outputs": [
    {
     "data": {
      "text/html": [
       "<div>\n",
       "<style scoped>\n",
       "    .dataframe tbody tr th:only-of-type {\n",
       "        vertical-align: middle;\n",
       "    }\n",
       "\n",
       "    .dataframe tbody tr th {\n",
       "        vertical-align: top;\n",
       "    }\n",
       "\n",
       "    .dataframe thead th {\n",
       "        text-align: right;\n",
       "    }\n",
       "</style>\n",
       "<table border=\"1\" class=\"dataframe\">\n",
       "  <thead>\n",
       "    <tr style=\"text-align: right;\">\n",
       "      <th></th>\n",
       "      <th>Year</th>\n",
       "      <th>Present_Price</th>\n",
       "      <th>Kms_Driven</th>\n",
       "      <th>Owner</th>\n",
       "    </tr>\n",
       "  </thead>\n",
       "  <tbody>\n",
       "    <tr>\n",
       "      <th>0</th>\n",
       "      <td>7</td>\n",
       "      <td>5.59</td>\n",
       "      <td>27000</td>\n",
       "      <td>0</td>\n",
       "    </tr>\n",
       "    <tr>\n",
       "      <th>1</th>\n",
       "      <td>8</td>\n",
       "      <td>9.54</td>\n",
       "      <td>43000</td>\n",
       "      <td>0</td>\n",
       "    </tr>\n",
       "    <tr>\n",
       "      <th>2</th>\n",
       "      <td>4</td>\n",
       "      <td>9.85</td>\n",
       "      <td>6900</td>\n",
       "      <td>0</td>\n",
       "    </tr>\n",
       "    <tr>\n",
       "      <th>3</th>\n",
       "      <td>10</td>\n",
       "      <td>4.15</td>\n",
       "      <td>5200</td>\n",
       "      <td>0</td>\n",
       "    </tr>\n",
       "    <tr>\n",
       "      <th>4</th>\n",
       "      <td>7</td>\n",
       "      <td>6.87</td>\n",
       "      <td>42450</td>\n",
       "      <td>0</td>\n",
       "    </tr>\n",
       "  </tbody>\n",
       "</table>\n",
       "</div>"
      ],
      "text/plain": [
       "   Year  Present_Price  Kms_Driven  Owner\n",
       "0     7           5.59       27000      0\n",
       "1     8           9.54       43000      0\n",
       "2     4           9.85        6900      0\n",
       "3    10           4.15        5200      0\n",
       "4     7           6.87       42450      0"
      ]
     },
     "execution_count": 16,
     "metadata": {},
     "output_type": "execute_result"
    }
   ],
   "source": [
    "dataset[['Year', 'Present_Price',  'Kms_Driven', 'Owner']].head()"
   ]
  },
  {
   "cell_type": "code",
   "execution_count": 17,
   "id": "96f84c7f",
   "metadata": {
    "execution": {
     "iopub.execute_input": "2021-09-14T15:33:50.441152Z",
     "iopub.status.busy": "2021-09-14T15:33:50.440496Z",
     "iopub.status.idle": "2021-09-14T15:33:50.443107Z",
     "shell.execute_reply": "2021-09-14T15:33:50.443499Z",
     "shell.execute_reply.started": "2021-09-14T15:26:18.628682Z"
    },
    "papermill": {
     "duration": 0.065541,
     "end_time": "2021-09-14T15:33:50.443614",
     "exception": false,
     "start_time": "2021-09-14T15:33:50.378073",
     "status": "completed"
    },
    "tags": []
   },
   "outputs": [
    {
     "data": {
      "text/plain": [
       "Year              16\n",
       "Present_Price    147\n",
       "Kms_Driven       206\n",
       "Owner              3\n",
       "dtype: int64"
      ]
     },
     "execution_count": 17,
     "metadata": {},
     "output_type": "execute_result"
    }
   ],
   "source": [
    "# Checking the number of unique values present per numerical variable\n",
    "dataset[['Year', 'Present_Price',  'Kms_Driven', 'Owner']].nunique()"
   ]
  },
  {
   "cell_type": "code",
   "execution_count": 18,
   "id": "d76d0f9e",
   "metadata": {
    "execution": {
     "iopub.execute_input": "2021-09-14T15:33:50.564260Z",
     "iopub.status.busy": "2021-09-14T15:33:50.563707Z",
     "iopub.status.idle": "2021-09-14T15:33:50.567106Z",
     "shell.execute_reply": "2021-09-14T15:33:50.567754Z",
     "shell.execute_reply.started": "2021-09-14T15:26:18.641972Z"
    },
    "papermill": {
     "duration": 0.06988,
     "end_time": "2021-09-14T15:33:50.567923",
     "exception": false,
     "start_time": "2021-09-14T15:33:50.498043",
     "status": "completed"
    },
    "tags": []
   },
   "outputs": [
    {
     "name": "stdout",
     "output_type": "stream",
     "text": [
      "<class 'pandas.core.frame.DataFrame'>\n",
      "RangeIndex: 301 entries, 0 to 300\n",
      "Data columns (total 4 columns):\n",
      " #   Column         Non-Null Count  Dtype  \n",
      "---  ------         --------------  -----  \n",
      " 0   Year           301 non-null    int64  \n",
      " 1   Present_Price  301 non-null    float64\n",
      " 2   Kms_Driven     301 non-null    int64  \n",
      " 3   Owner          301 non-null    int64  \n",
      "dtypes: float64(1), int64(3)\n",
      "memory usage: 9.5 KB\n"
     ]
    }
   ],
   "source": [
    "dataset[['Year', 'Present_Price',  'Kms_Driven', 'Owner']].info()"
   ]
  },
  {
   "cell_type": "markdown",
   "id": "6ecd2f63",
   "metadata": {
    "papermill": {
     "duration": 0.054409,
     "end_time": "2021-09-14T15:33:50.678182",
     "exception": false,
     "start_time": "2021-09-14T15:33:50.623773",
     "status": "completed"
    },
    "tags": []
   },
   "source": [
    "##### Although 'Kms_Driven' is of type int64, but it should be continuous numerical variable"
   ]
  },
  {
   "cell_type": "code",
   "execution_count": 19,
   "id": "aceadc9e",
   "metadata": {
    "execution": {
     "iopub.execute_input": "2021-09-14T15:33:50.792566Z",
     "iopub.status.busy": "2021-09-14T15:33:50.791035Z",
     "iopub.status.idle": "2021-09-14T15:33:50.793239Z",
     "shell.execute_reply": "2021-09-14T15:33:50.793628Z",
     "shell.execute_reply.started": "2021-09-14T15:26:18.661166Z"
    },
    "papermill": {
     "duration": 0.060805,
     "end_time": "2021-09-14T15:33:50.793752",
     "exception": false,
     "start_time": "2021-09-14T15:33:50.732947",
     "status": "completed"
    },
    "tags": []
   },
   "outputs": [],
   "source": [
    "# Changing the datatype of Kms_driven\n",
    "dataset.Kms_Driven = dataset.Kms_Driven.astype('float64')"
   ]
  },
  {
   "cell_type": "code",
   "execution_count": 20,
   "id": "acc41203",
   "metadata": {
    "execution": {
     "iopub.execute_input": "2021-09-14T15:33:50.917817Z",
     "iopub.status.busy": "2021-09-14T15:33:50.916049Z",
     "iopub.status.idle": "2021-09-14T15:33:50.920205Z",
     "shell.execute_reply": "2021-09-14T15:33:50.919745Z",
     "shell.execute_reply.started": "2021-09-14T15:26:18.668473Z"
    },
    "papermill": {
     "duration": 0.072079,
     "end_time": "2021-09-14T15:33:50.920314",
     "exception": false,
     "start_time": "2021-09-14T15:33:50.848235",
     "status": "completed"
    },
    "tags": []
   },
   "outputs": [
    {
     "name": "stdout",
     "output_type": "stream",
     "text": [
      "<class 'pandas.core.frame.DataFrame'>\n",
      "RangeIndex: 301 entries, 0 to 300\n",
      "Data columns (total 4 columns):\n",
      " #   Column         Non-Null Count  Dtype  \n",
      "---  ------         --------------  -----  \n",
      " 0   Year           301 non-null    int64  \n",
      " 1   Present_Price  301 non-null    float64\n",
      " 2   Kms_Driven     301 non-null    float64\n",
      " 3   Owner          301 non-null    int64  \n",
      "dtypes: float64(2), int64(2)\n",
      "memory usage: 9.5 KB\n"
     ]
    }
   ],
   "source": [
    "dataset[['Year', 'Present_Price',  'Kms_Driven', 'Owner']].info()"
   ]
  },
  {
   "cell_type": "markdown",
   "id": "517e2a89",
   "metadata": {
    "papermill": {
     "duration": 0.054209,
     "end_time": "2021-09-14T15:33:51.030193",
     "exception": false,
     "start_time": "2021-09-14T15:33:50.975984",
     "status": "completed"
    },
    "tags": []
   },
   "source": [
    "### Discrete Numerical Variables"
   ]
  },
  {
   "cell_type": "code",
   "execution_count": 21,
   "id": "313f04cc",
   "metadata": {
    "execution": {
     "iopub.execute_input": "2021-09-14T15:33:51.150050Z",
     "iopub.status.busy": "2021-09-14T15:33:51.148741Z",
     "iopub.status.idle": "2021-09-14T15:33:51.151997Z",
     "shell.execute_reply": "2021-09-14T15:33:51.152420Z",
     "shell.execute_reply.started": "2021-09-14T15:26:18.688730Z"
    },
    "papermill": {
     "duration": 0.066081,
     "end_time": "2021-09-14T15:33:51.152546",
     "exception": false,
     "start_time": "2021-09-14T15:33:51.086465",
     "status": "completed"
    },
    "tags": []
   },
   "outputs": [
    {
     "data": {
      "text/plain": [
       "['Year', 'Owner']"
      ]
     },
     "execution_count": 21,
     "metadata": {},
     "output_type": "execute_result"
    }
   ],
   "source": [
    "discrete_num_features = [feature for feature in dataset.columns if dataset[feature].dtypes in ['int64']]\n",
    "discrete_num_features"
   ]
  },
  {
   "cell_type": "code",
   "execution_count": 22,
   "id": "e0c69259",
   "metadata": {
    "execution": {
     "iopub.execute_input": "2021-09-14T15:33:51.312783Z",
     "iopub.status.busy": "2021-09-14T15:33:51.311946Z",
     "iopub.status.idle": "2021-09-14T15:33:51.867427Z",
     "shell.execute_reply": "2021-09-14T15:33:51.867985Z",
     "shell.execute_reply.started": "2021-09-14T15:26:18.699251Z"
    },
    "papermill": {
     "duration": 0.651947,
     "end_time": "2021-09-14T15:33:51.868213",
     "exception": false,
     "start_time": "2021-09-14T15:33:51.216266",
     "status": "completed"
    },
    "tags": []
   },
   "outputs": [
    {
     "data": {
      "image/png": "[encoded data removed]",
      "text/plain": [
       "<Figure size 432x288 with 1 Axes>"
      ]
     },
     "metadata": {
      "needs_background": "light"
     },
     "output_type": "display_data"
    },
    {
     "data": {
      "image/png": "[encoded data removed]",
      "text/plain": [
       "<Figure size 432x288 with 1 Axes>"
      ]
     },
     "metadata": {
      "needs_background": "light"
     },
     "output_type": "display_data"
    }
   ],
   "source": [
    "# Let's see the relationship of discrete numerical variables with target variable ('SalePrice')\n",
    "for feature in discrete_num_features:\n",
    "    dataset.groupby(feature)['Selling_Price'].mean().plot.bar()\n",
    "\n",
    "    plt.xlabel(feature)\n",
    "    plt.ylabel('Selling_Price')\n",
    "    plt.title(feature)\n",
    "    plt.show()"
   ]
  },
  {
   "cell_type": "markdown",
   "id": "34480459",
   "metadata": {
    "papermill": {
     "duration": 0.093601,
     "end_time": "2021-09-14T15:33:52.056348",
     "exception": false,
     "start_time": "2021-09-14T15:33:51.962747",
     "status": "completed"
    },
    "tags": []
   },
   "source": [
    "##### Observations: \n",
    "1. With the increase in the number of years, we can see a clear decline in Selling Price\n",
    "2. In case of Owner, if there was no previous (0 owner) the selling price is highest, but the 3 owner mean > 1 onwer; we need to check the median value here"
   ]
  },
  {
   "cell_type": "code",
   "execution_count": 23,
   "id": "43896021",
   "metadata": {
    "execution": {
     "iopub.execute_input": "2021-09-14T15:33:52.255325Z",
     "iopub.status.busy": "2021-09-14T15:33:52.247290Z",
     "iopub.status.idle": "2021-09-14T15:33:52.689778Z",
     "shell.execute_reply": "2021-09-14T15:33:52.690179Z",
     "shell.execute_reply.started": "2021-09-14T15:26:19.089052Z"
    },
    "papermill": {
     "duration": 0.541442,
     "end_time": "2021-09-14T15:33:52.690333",
     "exception": false,
     "start_time": "2021-09-14T15:33:52.148891",
     "status": "completed"
    },
    "tags": []
   },
   "outputs": [
    {
     "data": {
      "image/png": "[encoded data removed]",
      "text/plain": [
       "<Figure size 432x288 with 1 Axes>"
      ]
     },
     "metadata": {
      "needs_background": "light"
     },
     "output_type": "display_data"
    },
    {
     "data": {
      "image/png": "[encoded data removed]",
      "text/plain": [
       "<Figure size 432x288 with 1 Axes>"
      ]
     },
     "metadata": {
      "needs_background": "light"
     },
     "output_type": "display_data"
    }
   ],
   "source": [
    "# Let's see the relationship of discrete numerical variables with target variable ('SalePrice')\n",
    "for feature in discrete_num_features:\n",
    "    dataset.groupby(feature)['Selling_Price'].median().plot.bar()\n",
    "\n",
    "    plt.xlabel(feature)\n",
    "    plt.ylabel('Selling_Price')\n",
    "    plt.title(feature)\n",
    "    plt.show()"
   ]
  },
  {
   "cell_type": "markdown",
   "id": "992b08da",
   "metadata": {
    "papermill": {
     "duration": 0.05668,
     "end_time": "2021-09-14T15:33:52.809250",
     "exception": false,
     "start_time": "2021-09-14T15:33:52.752570",
     "status": "completed"
    },
    "tags": []
   },
   "source": [
    "##### Observations: \n",
    "1. With the increase in the number of years, we can see a clear decline in Selling Price\n",
    "2. In case of Owner, if there was no previous (0 owner) the selling price is highest, but the 3 owner meadian > 1 onwer median."
   ]
  },
  {
   "cell_type": "markdown",
   "id": "7217cfdd",
   "metadata": {
    "papermill": {
     "duration": 0.056475,
     "end_time": "2021-09-14T15:33:52.922762",
     "exception": false,
     "start_time": "2021-09-14T15:33:52.866287",
     "status": "completed"
    },
    "tags": []
   },
   "source": [
    "### Continuous Numerical Variables"
   ]
  },
  {
   "cell_type": "code",
   "execution_count": 24,
   "id": "835b0a67",
   "metadata": {
    "execution": {
     "iopub.execute_input": "2021-09-14T15:33:53.041229Z",
     "iopub.status.busy": "2021-09-14T15:33:53.040669Z",
     "iopub.status.idle": "2021-09-14T15:33:53.045879Z",
     "shell.execute_reply": "2021-09-14T15:33:53.045487Z",
     "shell.execute_reply.started": "2021-09-14T15:26:19.490217Z"
    },
    "papermill": {
     "duration": 0.066651,
     "end_time": "2021-09-14T15:33:53.045999",
     "exception": false,
     "start_time": "2021-09-14T15:33:52.979348",
     "status": "completed"
    },
    "tags": []
   },
   "outputs": [
    {
     "data": {
      "text/plain": [
       "['Selling_Price', 'Present_Price', 'Kms_Driven']"
      ]
     },
     "execution_count": 24,
     "metadata": {},
     "output_type": "execute_result"
    }
   ],
   "source": [
    "continuous_num_features = [feature for feature in dataset.columns if dataset[feature].dtypes == 'float64']\n",
    "continuous_num_features"
   ]
  },
  {
   "cell_type": "code",
   "execution_count": 25,
   "id": "8194214a",
   "metadata": {
    "execution": {
     "iopub.execute_input": "2021-09-14T15:33:53.165808Z",
     "iopub.status.busy": "2021-09-14T15:33:53.165201Z",
     "iopub.status.idle": "2021-09-14T15:33:53.167780Z",
     "shell.execute_reply": "2021-09-14T15:33:53.168190Z",
     "shell.execute_reply.started": "2021-09-14T15:26:19.499016Z"
    },
    "papermill": {
     "duration": 0.064337,
     "end_time": "2021-09-14T15:33:53.168346",
     "exception": false,
     "start_time": "2021-09-14T15:33:53.104009",
     "status": "completed"
    },
    "tags": []
   },
   "outputs": [
    {
     "data": {
      "text/plain": [
       "['Present_Price', 'Kms_Driven']"
      ]
     },
     "execution_count": 25,
     "metadata": {},
     "output_type": "execute_result"
    }
   ],
   "source": [
    "# dropping target variable from continuous_num_features list\n",
    "continuous_num_features.remove('Selling_Price')\n",
    "continuous_num_features"
   ]
  },
  {
   "cell_type": "code",
   "execution_count": 26,
   "id": "e507d209",
   "metadata": {
    "execution": {
     "iopub.execute_input": "2021-09-14T15:33:53.334120Z",
     "iopub.status.busy": "2021-09-14T15:33:53.328877Z",
     "iopub.status.idle": "2021-09-14T15:33:53.735925Z",
     "shell.execute_reply": "2021-09-14T15:33:53.736708Z",
     "shell.execute_reply.started": "2021-09-14T15:26:19.514429Z"
    },
    "papermill": {
     "duration": 0.511078,
     "end_time": "2021-09-14T15:33:53.736867",
     "exception": false,
     "start_time": "2021-09-14T15:33:53.225789",
     "status": "completed"
    },
    "tags": []
   },
   "outputs": [
    {
     "data": {
      "image/png": "[encoded data removed]",
      "text/plain": [
       "<Figure size 432x288 with 1 Axes>"
      ]
     },
     "metadata": {
      "needs_background": "light"
     },
     "output_type": "display_data"
    },
    {
     "data": {
      "image/png": "[encoded data removed]",
      "text/plain": [
       "<Figure size 432x288 with 1 Axes>"
      ]
     },
     "metadata": {
      "needs_background": "light"
     },
     "output_type": "display_data"
    }
   ],
   "source": [
    "# Let's analyse the continuous values by creating histograms to understand the distribution\n",
    "for feature in continuous_num_features:\n",
    "    dataset[feature].hist(bins=30)\n",
    "    plt.xlabel(feature)\n",
    "    plt.ylabel('count')\n",
    "    plt.title(feature)\n",
    "    plt.show()"
   ]
  },
  {
   "cell_type": "code",
   "execution_count": 27,
   "id": "b109bd4e",
   "metadata": {
    "execution": {
     "iopub.execute_input": "2021-09-14T15:33:54.030569Z",
     "iopub.status.busy": "2021-09-14T15:33:54.017318Z",
     "iopub.status.idle": "2021-09-14T15:33:54.512605Z",
     "shell.execute_reply": "2021-09-14T15:33:54.513012Z",
     "shell.execute_reply.started": "2021-09-14T15:26:19.967830Z"
    },
    "papermill": {
     "duration": 0.715431,
     "end_time": "2021-09-14T15:33:54.513165",
     "exception": false,
     "start_time": "2021-09-14T15:33:53.797734",
     "status": "completed"
    },
    "tags": []
   },
   "outputs": [
    {
     "data": {
      "image/png": "[encoded data removed]",
      "text/plain": [
       "<Figure size 432x288 with 1 Axes>"
      ]
     },
     "metadata": {
      "needs_background": "light"
     },
     "output_type": "display_data"
    },
    {
     "data": {
      "image/png": "[encoded data removed]",
      "text/plain": [
       "<Figure size 432x288 with 1 Axes>"
      ]
     },
     "metadata": {
      "needs_background": "light"
     },
     "output_type": "display_data"
    }
   ],
   "source": [
    "# Let's analyse the continuous values by creating histograms to understand the distribution\n",
    "for feature in continuous_num_features:\n",
    "    sns.histplot(data=dataset, x=feature, kde=True)\n",
    "    plt.xlabel(feature)\n",
    "    plt.ylabel('count')\n",
    "    plt.title(feature)\n",
    "    plt.show()"
   ]
  },
  {
   "cell_type": "markdown",
   "id": "7bc578ec",
   "metadata": {
    "papermill": {
     "duration": 0.064612,
     "end_time": "2021-09-14T15:33:54.638611",
     "exception": false,
     "start_time": "2021-09-14T15:33:54.573999",
     "status": "completed"
    },
    "tags": []
   },
   "source": [
    "##### Obseravation: Continuous variables are right skewed (mode < median < mean)"
   ]
  },
  {
   "cell_type": "markdown",
   "id": "76b21301",
   "metadata": {
    "papermill": {
     "duration": 0.059855,
     "end_time": "2021-09-14T15:33:54.758480",
     "exception": false,
     "start_time": "2021-09-14T15:33:54.698625",
     "status": "completed"
    },
    "tags": []
   },
   "source": [
    "### Outliers : Checking outliers in numerical variables"
   ]
  },
  {
   "cell_type": "code",
   "execution_count": 28,
   "id": "a32e02fd",
   "metadata": {
    "execution": {
     "iopub.execute_input": "2021-09-14T15:33:54.939840Z",
     "iopub.status.busy": "2021-09-14T15:33:54.925675Z",
     "iopub.status.idle": "2021-09-14T15:33:55.530036Z",
     "shell.execute_reply": "2021-09-14T15:33:55.530473Z",
     "shell.execute_reply.started": "2021-09-14T15:26:20.650745Z"
    },
    "papermill": {
     "duration": 0.712414,
     "end_time": "2021-09-14T15:33:55.530615",
     "exception": false,
     "start_time": "2021-09-14T15:33:54.818201",
     "status": "completed"
    },
    "tags": []
   },
   "outputs": [
    {
     "data": {
      "image/png": "[encoded data removed]",
      "text/plain": [
       "<Figure size 432x288 with 1 Axes>"
      ]
     },
     "metadata": {
      "needs_background": "light"
     },
     "output_type": "display_data"
    },
    {
     "data": {
      "image/png": "[encoded data removed]",
      "text/plain": [
       "<Figure size 432x288 with 1 Axes>"
      ]
     },
     "metadata": {
      "needs_background": "light"
     },
     "output_type": "display_data"
    },
    {
     "data": {
      "image/png": "[encoded data removed]",
      "text/plain": [
       "<Figure size 432x288 with 1 Axes>"
      ]
     },
     "metadata": {
      "needs_background": "light"
     },
     "output_type": "display_data"
    },
    {
     "data": {
      "image/png": "[encoded data removed]",
      "text/plain": [
       "<Figure size 432x288 with 1 Axes>"
      ]
     },
     "metadata": {
      "needs_background": "light"
     },
     "output_type": "display_data"
    }
   ],
   "source": [
    "# boxplot to visualize outliers\n",
    "\n",
    "for feature in discrete_num_features + continuous_num_features:\n",
    "    dataset.boxplot(column = feature)\n",
    "    plt.ylabel(feature)\n",
    "    plt.title(feature)\n",
    "    plt.show()"
   ]
  },
  {
   "cell_type": "markdown",
   "id": "f7248f57",
   "metadata": {
    "papermill": {
     "duration": 0.064781,
     "end_time": "2021-09-14T15:33:55.666249",
     "exception": false,
     "start_time": "2021-09-14T15:33:55.601468",
     "status": "completed"
    },
    "tags": []
   },
   "source": [
    "##### Observations: All the numerical variables have outliers. Had there been any missing values, we would have replaced with median() instead of mean()"
   ]
  },
  {
   "cell_type": "markdown",
   "id": "20f63835",
   "metadata": {
    "papermill": {
     "duration": 0.068465,
     "end_time": "2021-09-14T15:33:55.800903",
     "exception": false,
     "start_time": "2021-09-14T15:33:55.732438",
     "status": "completed"
    },
    "tags": []
   },
   "source": [
    "# Splitting Data"
   ]
  },
  {
   "cell_type": "code",
   "execution_count": 29,
   "id": "394a1116",
   "metadata": {
    "execution": {
     "iopub.execute_input": "2021-09-14T15:33:55.945561Z",
     "iopub.status.busy": "2021-09-14T15:33:55.944588Z",
     "iopub.status.idle": "2021-09-14T15:33:55.947996Z",
     "shell.execute_reply": "2021-09-14T15:33:55.948437Z",
     "shell.execute_reply.started": "2021-09-14T15:26:21.294871Z"
    },
    "papermill": {
     "duration": 0.083605,
     "end_time": "2021-09-14T15:33:55.948576",
     "exception": false,
     "start_time": "2021-09-14T15:33:55.864971",
     "status": "completed"
    },
    "tags": []
   },
   "outputs": [
    {
     "data": {
      "text/html": [
       "<div>\n",
       "<style scoped>\n",
       "    .dataframe tbody tr th:only-of-type {\n",
       "        vertical-align: middle;\n",
       "    }\n",
       "\n",
       "    .dataframe tbody tr th {\n",
       "        vertical-align: top;\n",
       "    }\n",
       "\n",
       "    .dataframe thead th {\n",
       "        text-align: right;\n",
       "    }\n",
       "</style>\n",
       "<table border=\"1\" class=\"dataframe\">\n",
       "  <thead>\n",
       "    <tr style=\"text-align: right;\">\n",
       "      <th></th>\n",
       "      <th>Car_Name</th>\n",
       "      <th>Year</th>\n",
       "      <th>Present_Price</th>\n",
       "      <th>Kms_Driven</th>\n",
       "      <th>Fuel_Type</th>\n",
       "      <th>Seller_Type</th>\n",
       "      <th>Transmission</th>\n",
       "      <th>Owner</th>\n",
       "    </tr>\n",
       "  </thead>\n",
       "  <tbody>\n",
       "    <tr>\n",
       "      <th>0</th>\n",
       "      <td>ritz</td>\n",
       "      <td>7</td>\n",
       "      <td>5.59</td>\n",
       "      <td>27000.0</td>\n",
       "      <td>Petrol</td>\n",
       "      <td>Dealer</td>\n",
       "      <td>Manual</td>\n",
       "      <td>0</td>\n",
       "    </tr>\n",
       "    <tr>\n",
       "      <th>1</th>\n",
       "      <td>sx4</td>\n",
       "      <td>8</td>\n",
       "      <td>9.54</td>\n",
       "      <td>43000.0</td>\n",
       "      <td>Diesel</td>\n",
       "      <td>Dealer</td>\n",
       "      <td>Manual</td>\n",
       "      <td>0</td>\n",
       "    </tr>\n",
       "    <tr>\n",
       "      <th>2</th>\n",
       "      <td>ciaz</td>\n",
       "      <td>4</td>\n",
       "      <td>9.85</td>\n",
       "      <td>6900.0</td>\n",
       "      <td>Petrol</td>\n",
       "      <td>Dealer</td>\n",
       "      <td>Manual</td>\n",
       "      <td>0</td>\n",
       "    </tr>\n",
       "    <tr>\n",
       "      <th>3</th>\n",
       "      <td>wagon r</td>\n",
       "      <td>10</td>\n",
       "      <td>4.15</td>\n",
       "      <td>5200.0</td>\n",
       "      <td>Petrol</td>\n",
       "      <td>Dealer</td>\n",
       "      <td>Manual</td>\n",
       "      <td>0</td>\n",
       "    </tr>\n",
       "    <tr>\n",
       "      <th>4</th>\n",
       "      <td>swift</td>\n",
       "      <td>7</td>\n",
       "      <td>6.87</td>\n",
       "      <td>42450.0</td>\n",
       "      <td>Diesel</td>\n",
       "      <td>Dealer</td>\n",
       "      <td>Manual</td>\n",
       "      <td>0</td>\n",
       "    </tr>\n",
       "  </tbody>\n",
       "</table>\n",
       "</div>"
      ],
      "text/plain": [
       "  Car_Name  Year  Present_Price  Kms_Driven Fuel_Type Seller_Type  \\\n",
       "0     ritz     7           5.59     27000.0    Petrol      Dealer   \n",
       "1      sx4     8           9.54     43000.0    Diesel      Dealer   \n",
       "2     ciaz     4           9.85      6900.0    Petrol      Dealer   \n",
       "3  wagon r    10           4.15      5200.0    Petrol      Dealer   \n",
       "4    swift     7           6.87     42450.0    Diesel      Dealer   \n",
       "\n",
       "  Transmission  Owner  \n",
       "0       Manual      0  \n",
       "1       Manual      0  \n",
       "2       Manual      0  \n",
       "3       Manual      0  \n",
       "4       Manual      0  "
      ]
     },
     "execution_count": 29,
     "metadata": {},
     "output_type": "execute_result"
    }
   ],
   "source": [
    "X = dataset.drop('Selling_Price', axis=1)\n",
    "y = dataset.Selling_Price\n",
    "X.head()"
   ]
  },
  {
   "cell_type": "markdown",
   "id": "8749e60a",
   "metadata": {
    "papermill": {
     "duration": 0.063337,
     "end_time": "2021-09-14T15:33:56.075791",
     "exception": false,
     "start_time": "2021-09-14T15:33:56.012454",
     "status": "completed"
    },
    "tags": []
   },
   "source": [
    "# Categorical variable Encoding\n",
    "### Label encoding and One-hot encoding"
   ]
  },
  {
   "cell_type": "markdown",
   "id": "7fd649ca",
   "metadata": {
    "papermill": {
     "duration": 0.062191,
     "end_time": "2021-09-14T15:33:56.202485",
     "exception": false,
     "start_time": "2021-09-14T15:33:56.140294",
     "status": "completed"
    },
    "tags": []
   },
   "source": [
    "#### Label Encoding for Fuel_Type, Seller_Type, Transmission"
   ]
  },
  {
   "cell_type": "code",
   "execution_count": 30,
   "id": "8e4695eb",
   "metadata": {
    "execution": {
     "iopub.execute_input": "2021-09-14T15:33:56.340480Z",
     "iopub.status.busy": "2021-09-14T15:33:56.339769Z",
     "iopub.status.idle": "2021-09-14T15:33:56.342376Z",
     "shell.execute_reply": "2021-09-14T15:33:56.341970Z",
     "shell.execute_reply.started": "2021-09-14T15:26:21.314709Z"
    },
    "papermill": {
     "duration": 0.077047,
     "end_time": "2021-09-14T15:33:56.342481",
     "exception": false,
     "start_time": "2021-09-14T15:33:56.265434",
     "status": "completed"
    },
    "tags": []
   },
   "outputs": [],
   "source": [
    "# label encoding\n",
    "car_dataset = X.copy()\n",
    "car_dataset.replace({'Fuel_Type':{'Petrol':3, 'Diesel':1, 'CNG':2}}, inplace=True)\n",
    "car_dataset.replace({'Seller_Type':{'Dealer':1, 'Individual':2}}, inplace=True)\n",
    "car_dataset.replace({'Transmission':{'Manual':2, 'Automatic':1}}, inplace=True)"
   ]
  },
  {
   "cell_type": "markdown",
   "id": "990a52d3",
   "metadata": {
    "papermill": {
     "duration": 0.069637,
     "end_time": "2021-09-14T15:33:56.475330",
     "exception": false,
     "start_time": "2021-09-14T15:33:56.405693",
     "status": "completed"
    },
    "tags": []
   },
   "source": [
    "# Train - Test Split"
   ]
  },
  {
   "cell_type": "code",
   "execution_count": 31,
   "id": "8c62f2b6",
   "metadata": {
    "execution": {
     "iopub.execute_input": "2021-09-14T15:33:56.607404Z",
     "iopub.status.busy": "2021-09-14T15:33:56.606770Z",
     "iopub.status.idle": "2021-09-14T15:33:56.609818Z",
     "shell.execute_reply": "2021-09-14T15:33:56.609428Z",
     "shell.execute_reply.started": "2021-09-14T15:26:21.331745Z"
    },
    "papermill": {
     "duration": 0.07206,
     "end_time": "2021-09-14T15:33:56.609924",
     "exception": false,
     "start_time": "2021-09-14T15:33:56.537864",
     "status": "completed"
    },
    "tags": []
   },
   "outputs": [],
   "source": [
    "x_train, x_test, y_train, y_test = train_test_split(car_dataset, y, random_state=1, test_size=0.1)"
   ]
  },
  {
   "cell_type": "markdown",
   "id": "09bc8c62",
   "metadata": {
    "papermill": {
     "duration": 0.062791,
     "end_time": "2021-09-14T15:33:56.735245",
     "exception": false,
     "start_time": "2021-09-14T15:33:56.672454",
     "status": "completed"
    },
    "tags": []
   },
   "source": [
    "### One-hot encoding for Car-Name"
   ]
  },
  {
   "cell_type": "code",
   "execution_count": 32,
   "id": "23c371b0",
   "metadata": {
    "execution": {
     "iopub.execute_input": "2021-09-14T15:33:56.864760Z",
     "iopub.status.busy": "2021-09-14T15:33:56.863680Z",
     "iopub.status.idle": "2021-09-14T15:33:56.878278Z",
     "shell.execute_reply": "2021-09-14T15:33:56.877865Z",
     "shell.execute_reply.started": "2021-09-14T15:26:21.342472Z"
    },
    "papermill": {
     "duration": 0.080114,
     "end_time": "2021-09-14T15:33:56.878384",
     "exception": false,
     "start_time": "2021-09-14T15:33:56.798270",
     "status": "completed"
    },
    "tags": []
   },
   "outputs": [
    {
     "data": {
      "text/html": [
       "<div>\n",
       "<style scoped>\n",
       "    .dataframe tbody tr th:only-of-type {\n",
       "        vertical-align: middle;\n",
       "    }\n",
       "\n",
       "    .dataframe tbody tr th {\n",
       "        vertical-align: top;\n",
       "    }\n",
       "\n",
       "    .dataframe thead th {\n",
       "        text-align: right;\n",
       "    }\n",
       "</style>\n",
       "<table border=\"1\" class=\"dataframe\">\n",
       "  <thead>\n",
       "    <tr style=\"text-align: right;\">\n",
       "      <th></th>\n",
       "      <th>Car_Name</th>\n",
       "      <th>Year</th>\n",
       "      <th>Present_Price</th>\n",
       "      <th>Kms_Driven</th>\n",
       "      <th>Fuel_Type</th>\n",
       "      <th>Seller_Type</th>\n",
       "      <th>Transmission</th>\n",
       "      <th>Owner</th>\n",
       "    </tr>\n",
       "  </thead>\n",
       "  <tbody>\n",
       "    <tr>\n",
       "      <th>197</th>\n",
       "      <td>Honda CB twister</td>\n",
       "      <td>11</td>\n",
       "      <td>0.51</td>\n",
       "      <td>33000.0</td>\n",
       "      <td>3</td>\n",
       "      <td>2</td>\n",
       "      <td>2</td>\n",
       "      <td>0</td>\n",
       "    </tr>\n",
       "    <tr>\n",
       "      <th>202</th>\n",
       "      <td>grand i10</td>\n",
       "      <td>6</td>\n",
       "      <td>5.70</td>\n",
       "      <td>28200.0</td>\n",
       "      <td>3</td>\n",
       "      <td>1</td>\n",
       "      <td>2</td>\n",
       "      <td>0</td>\n",
       "    </tr>\n",
       "    <tr>\n",
       "      <th>59</th>\n",
       "      <td>fortuner</td>\n",
       "      <td>7</td>\n",
       "      <td>35.96</td>\n",
       "      <td>41000.0</td>\n",
       "      <td>1</td>\n",
       "      <td>1</td>\n",
       "      <td>1</td>\n",
       "      <td>0</td>\n",
       "    </tr>\n",
       "    <tr>\n",
       "      <th>51</th>\n",
       "      <td>fortuner</td>\n",
       "      <td>6</td>\n",
       "      <td>30.61</td>\n",
       "      <td>40000.0</td>\n",
       "      <td>1</td>\n",
       "      <td>1</td>\n",
       "      <td>1</td>\n",
       "      <td>0</td>\n",
       "    </tr>\n",
       "    <tr>\n",
       "      <th>89</th>\n",
       "      <td>etios g</td>\n",
       "      <td>7</td>\n",
       "      <td>6.76</td>\n",
       "      <td>40000.0</td>\n",
       "      <td>3</td>\n",
       "      <td>1</td>\n",
       "      <td>2</td>\n",
       "      <td>0</td>\n",
       "    </tr>\n",
       "  </tbody>\n",
       "</table>\n",
       "</div>"
      ],
      "text/plain": [
       "             Car_Name  Year  Present_Price  Kms_Driven  Fuel_Type  \\\n",
       "197  Honda CB twister    11           0.51     33000.0          3   \n",
       "202         grand i10     6           5.70     28200.0          3   \n",
       "59           fortuner     7          35.96     41000.0          1   \n",
       "51           fortuner     6          30.61     40000.0          1   \n",
       "89            etios g     7           6.76     40000.0          3   \n",
       "\n",
       "     Seller_Type  Transmission  Owner  \n",
       "197            2             2      0  \n",
       "202            1             2      0  \n",
       "59             1             1      0  \n",
       "51             1             1      0  \n",
       "89             1             2      0  "
      ]
     },
     "execution_count": 32,
     "metadata": {},
     "output_type": "execute_result"
    }
   ],
   "source": [
    "x_train.head()"
   ]
  },
  {
   "cell_type": "code",
   "execution_count": 33,
   "id": "2ed421f6",
   "metadata": {
    "execution": {
     "iopub.execute_input": "2021-09-14T15:33:57.013427Z",
     "iopub.status.busy": "2021-09-14T15:33:57.012643Z",
     "iopub.status.idle": "2021-09-14T15:33:57.020430Z",
     "shell.execute_reply": "2021-09-14T15:33:57.020822Z",
     "shell.execute_reply.started": "2021-09-14T15:26:21.359685Z"
    },
    "papermill": {
     "duration": 0.078163,
     "end_time": "2021-09-14T15:33:57.020951",
     "exception": false,
     "start_time": "2021-09-14T15:33:56.942788",
     "status": "completed"
    },
    "tags": []
   },
   "outputs": [],
   "source": [
    "# 'handle_unknown' helps to discard categories not seen during fit\n",
    "encoder_OH = OneHotEncoder(handle_unknown = 'ignore', sparse=False)\n",
    "\n",
    "train_encoded = pd.DataFrame(encoder_OH.fit_transform(x_train[['Car_Name']]), index = x_train.index)\n",
    "test_encoded = pd.DataFrame(encoder_OH.transform(x_test[['Car_Name']]), index = x_test.index)\n",
    "\n",
    "train_OH = pd.concat([x_train.select_dtypes(include = ['int64', 'float64']), train_encoded], axis = 1)\n",
    "test_OH = pd.concat([x_test.select_dtypes(include = ['int64', 'float64']), test_encoded], axis = 1)"
   ]
  },
  {
   "cell_type": "code",
   "execution_count": 34,
   "id": "8b6e1510",
   "metadata": {
    "execution": {
     "iopub.execute_input": "2021-09-14T15:33:57.150014Z",
     "iopub.status.busy": "2021-09-14T15:33:57.149512Z",
     "iopub.status.idle": "2021-09-14T15:33:57.154446Z",
     "shell.execute_reply": "2021-09-14T15:33:57.154981Z",
     "shell.execute_reply.started": "2021-09-14T15:26:21.377883Z"
    },
    "papermill": {
     "duration": 0.071715,
     "end_time": "2021-09-14T15:33:57.155139",
     "exception": false,
     "start_time": "2021-09-14T15:33:57.083424",
     "status": "completed"
    },
    "tags": []
   },
   "outputs": [
    {
     "name": "stdout",
     "output_type": "stream",
     "text": [
      "(270, 101)\n",
      "(31, 101)\n"
     ]
    }
   ],
   "source": [
    "print(train_OH.shape)\n",
    "print(test_OH.shape)\n",
    "# total number of features = 101"
   ]
  },
  {
   "cell_type": "markdown",
   "id": "1f26ff64",
   "metadata": {
    "papermill": {
     "duration": 0.063192,
     "end_time": "2021-09-14T15:33:57.281871",
     "exception": false,
     "start_time": "2021-09-14T15:33:57.218679",
     "status": "completed"
    },
    "tags": []
   },
   "source": [
    "### Feature Selection"
   ]
  },
  {
   "cell_type": "code",
   "execution_count": 35,
   "id": "19be3d75",
   "metadata": {
    "execution": {
     "iopub.execute_input": "2021-09-14T15:33:57.415441Z",
     "iopub.status.busy": "2021-09-14T15:33:57.414783Z",
     "iopub.status.idle": "2021-09-14T15:33:57.416957Z",
     "shell.execute_reply": "2021-09-14T15:33:57.417317Z",
     "shell.execute_reply.started": "2021-09-14T15:26:21.391083Z"
    },
    "papermill": {
     "duration": 0.071432,
     "end_time": "2021-09-14T15:33:57.417432",
     "exception": false,
     "start_time": "2021-09-14T15:33:57.346000",
     "status": "completed"
    },
    "tags": []
   },
   "outputs": [],
   "source": [
    "# Next setps:\n",
    "#     1. feature scaling \n",
    "#     2. feature selection using lasso and select from model\n",
    "#     3. model building using treebase ensemble models randomforest, extra tree, xgboost\n",
    "#     4. use of randomized search cv for hyperparameter tuning\n",
    "#     5. selecting the best model out of them\n",
    "#     6. printing the test score"
   ]
  },
  {
   "cell_type": "code",
   "execution_count": 36,
   "id": "8de0c0c4",
   "metadata": {
    "execution": {
     "iopub.execute_input": "2021-09-14T15:33:57.552017Z",
     "iopub.status.busy": "2021-09-14T15:33:57.551056Z",
     "iopub.status.idle": "2021-09-14T15:33:57.560176Z",
     "shell.execute_reply": "2021-09-14T15:33:57.559775Z",
     "shell.execute_reply.started": "2021-09-14T15:26:21.400169Z"
    },
    "papermill": {
     "duration": 0.078645,
     "end_time": "2021-09-14T15:33:57.560277",
     "exception": false,
     "start_time": "2021-09-14T15:33:57.481632",
     "status": "completed"
    },
    "tags": []
   },
   "outputs": [],
   "source": [
    "train_cols = train_OH.columns\n",
    "\n",
    "# MinMax scaler object\n",
    "scaler = MinMaxScaler()\n",
    "\n",
    "# transforming train data\n",
    "x_train_encoded_scaled = pd.DataFrame(scaler.fit_transform(train_OH), columns = train_cols)\n",
    "\n",
    "# transforming test data\n",
    "x_test_encoded_scaled = pd.DataFrame(scaler.transform(test_OH), columns = train_cols)"
   ]
  },
  {
   "cell_type": "markdown",
   "id": "c0fbda74",
   "metadata": {
    "papermill": {
     "duration": 0.063253,
     "end_time": "2021-09-14T15:33:57.687480",
     "exception": false,
     "start_time": "2021-09-14T15:33:57.624227",
     "status": "completed"
    },
    "tags": []
   },
   "source": [
    "## Feature Selection using Lasso regression to select important features\n",
    "#### This is the reason why I performed feature scaling"
   ]
  },
  {
   "cell_type": "code",
   "execution_count": 37,
   "id": "d87bb60a",
   "metadata": {
    "execution": {
     "iopub.execute_input": "2021-09-14T15:33:57.824535Z",
     "iopub.status.busy": "2021-09-14T15:33:57.821584Z",
     "iopub.status.idle": "2021-09-14T15:33:57.833776Z",
     "shell.execute_reply": "2021-09-14T15:33:57.834390Z",
     "shell.execute_reply.started": "2021-09-14T15:26:21.420822Z"
    },
    "papermill": {
     "duration": 0.083559,
     "end_time": "2021-09-14T15:33:57.834576",
     "exception": false,
     "start_time": "2021-09-14T15:33:57.751017",
     "status": "completed"
    },
    "tags": []
   },
   "outputs": [
    {
     "data": {
      "text/plain": [
       "24"
      ]
     },
     "execution_count": 37,
     "metadata": {},
     "output_type": "execute_result"
    }
   ],
   "source": [
    "# The bigger the alpha for Lasso, less features gets selected\n",
    "# SelectFromModel selects features whose coefficients are non-zero\n",
    "# feature selection using training data\n",
    "feature_sel = SelectFromModel(Lasso(alpha = 0.01, random_state=1, max_iter=10000))\n",
    "feature_sel.fit(x_train_encoded_scaled, y_train)\n",
    "\n",
    "selected_features = x_train_encoded_scaled.columns[feature_sel.get_support()]\n",
    "len(selected_features)"
   ]
  },
  {
   "cell_type": "markdown",
   "id": "11fe34e2",
   "metadata": {
    "papermill": {
     "duration": 0.069922,
     "end_time": "2021-09-14T15:33:58.016835",
     "exception": false,
     "start_time": "2021-09-14T15:33:57.946913",
     "status": "completed"
    },
    "tags": []
   },
   "source": [
    "##### Out of 101 features, only 24 got selected"
   ]
  },
  {
   "cell_type": "code",
   "execution_count": 38,
   "id": "a908c077",
   "metadata": {
    "execution": {
     "iopub.execute_input": "2021-09-14T15:33:58.149806Z",
     "iopub.status.busy": "2021-09-14T15:33:58.149170Z",
     "iopub.status.idle": "2021-09-14T15:33:58.152096Z",
     "shell.execute_reply": "2021-09-14T15:33:58.152485Z",
     "shell.execute_reply.started": "2021-09-14T15:26:21.439713Z"
    },
    "papermill": {
     "duration": 0.072159,
     "end_time": "2021-09-14T15:33:58.152599",
     "exception": false,
     "start_time": "2021-09-14T15:33:58.080440",
     "status": "completed"
    },
    "tags": []
   },
   "outputs": [
    {
     "data": {
      "text/plain": [
       "array(['Year', 'Present_Price', 'Kms_Driven', 'Fuel_Type', 'Seller_Type',\n",
       "       'Transmission', 0, 14, 27, 28, 29, 30, 44, 60, 61, 64, 65, 67, 68,\n",
       "       70, 71, 77, 82, 90], dtype=object)"
      ]
     },
     "execution_count": 38,
     "metadata": {},
     "output_type": "execute_result"
    }
   ],
   "source": [
    "np.array(selected_features)"
   ]
  },
  {
   "cell_type": "markdown",
   "id": "f59caabd",
   "metadata": {
    "papermill": {
     "duration": 0.063817,
     "end_time": "2021-09-14T15:33:58.280145",
     "exception": false,
     "start_time": "2021-09-14T15:33:58.216328",
     "status": "completed"
    },
    "tags": []
   },
   "source": [
    "# Model building"
   ]
  },
  {
   "cell_type": "markdown",
   "id": "1e1a9094",
   "metadata": {
    "papermill": {
     "duration": 0.10012,
     "end_time": "2021-09-14T15:33:58.444641",
     "exception": false,
     "start_time": "2021-09-14T15:33:58.344521",
     "status": "completed"
    },
    "tags": []
   },
   "source": [
    "### Refer below articles to know more about Tree based algorithms\n",
    "### [Decision trees and ensemble methods do not require feature scaling to be performed as they are not sensitive to the the variance in the data](\"https://towardsdatascience.com/do-decision-trees-need-feature-scaling-97809eaa60c6\")\n",
    "\n",
    "### [ExtraTreesRegressor vs RandomForestRegressor](\"https://quantdare.com/what-is-the-difference-between-extra-trees-and-random-forest/\")"
   ]
  },
  {
   "cell_type": "code",
   "execution_count": 39,
   "id": "0fd3ff68",
   "metadata": {
    "execution": {
     "iopub.execute_input": "2021-09-14T15:33:58.661427Z",
     "iopub.status.busy": "2021-09-14T15:33:58.660600Z",
     "iopub.status.idle": "2021-09-14T15:33:58.664776Z",
     "shell.execute_reply": "2021-09-14T15:33:58.665464Z",
     "shell.execute_reply.started": "2021-09-14T15:26:21.448030Z"
    },
    "papermill": {
     "duration": 0.115248,
     "end_time": "2021-09-14T15:33:58.665658",
     "exception": false,
     "start_time": "2021-09-14T15:33:58.550410",
     "status": "completed"
    },
    "tags": []
   },
   "outputs": [],
   "source": [
    "# # ExtraTreesRegressor and RandomForestRegressor have exactly same set of parameters,\n",
    "\n",
    "# Important differences among them exists as below:\n",
    "    # 1. Random forest uses bootstrap replicas (bootstrap == True), i.e., it subsamples the input data with replacement. \n",
    "    # But Extra Trees uses the whole original samples (bootstrap == False).\n",
    "\n",
    "    # 2. Random forest chooses optimum split for splitting nodes (computationally costly), but ExtraTrees chooses splits randomly"
   ]
  },
  {
   "cell_type": "code",
   "execution_count": 40,
   "id": "0ff4a6b0",
   "metadata": {
    "execution": {
     "iopub.execute_input": "2021-09-14T15:33:58.903209Z",
     "iopub.status.busy": "2021-09-14T15:33:58.901892Z",
     "iopub.status.idle": "2021-09-14T15:33:58.904483Z",
     "shell.execute_reply": "2021-09-14T15:33:58.903863Z",
     "shell.execute_reply.started": "2021-09-14T15:26:21.456941Z"
    },
    "papermill": {
     "duration": 0.122252,
     "end_time": "2021-09-14T15:33:58.904619",
     "exception": false,
     "start_time": "2021-09-14T15:33:58.782367",
     "status": "completed"
    },
    "tags": []
   },
   "outputs": [],
   "source": [
    "# Considering features selected using lasso regression\n",
    "x_train_final = train_OH[selected_features]\n",
    "x_test_final = test_OH[selected_features]"
   ]
  },
  {
   "cell_type": "code",
   "execution_count": 41,
   "id": "48252030",
   "metadata": {
    "execution": {
     "iopub.execute_input": "2021-09-14T15:33:59.074373Z",
     "iopub.status.busy": "2021-09-14T15:33:59.073590Z",
     "iopub.status.idle": "2021-09-14T15:33:59.078350Z",
     "shell.execute_reply": "2021-09-14T15:33:59.078772Z",
     "shell.execute_reply.started": "2021-09-14T15:26:21.472533Z"
    },
    "papermill": {
     "duration": 0.100507,
     "end_time": "2021-09-14T15:33:59.078943",
     "exception": false,
     "start_time": "2021-09-14T15:33:58.978436",
     "status": "completed"
    },
    "tags": []
   },
   "outputs": [
    {
     "data": {
      "text/html": [
       "<div>\n",
       "<style scoped>\n",
       "    .dataframe tbody tr th:only-of-type {\n",
       "        vertical-align: middle;\n",
       "    }\n",
       "\n",
       "    .dataframe tbody tr th {\n",
       "        vertical-align: top;\n",
       "    }\n",
       "\n",
       "    .dataframe thead th {\n",
       "        text-align: right;\n",
       "    }\n",
       "</style>\n",
       "<table border=\"1\" class=\"dataframe\">\n",
       "  <thead>\n",
       "    <tr style=\"text-align: right;\">\n",
       "      <th></th>\n",
       "      <th>Year</th>\n",
       "      <th>Present_Price</th>\n",
       "      <th>Kms_Driven</th>\n",
       "      <th>Fuel_Type</th>\n",
       "      <th>Seller_Type</th>\n",
       "      <th>Transmission</th>\n",
       "      <th>0</th>\n",
       "      <th>14</th>\n",
       "      <th>27</th>\n",
       "      <th>28</th>\n",
       "      <th>...</th>\n",
       "      <th>61</th>\n",
       "      <th>64</th>\n",
       "      <th>65</th>\n",
       "      <th>67</th>\n",
       "      <th>68</th>\n",
       "      <th>70</th>\n",
       "      <th>71</th>\n",
       "      <th>77</th>\n",
       "      <th>82</th>\n",
       "      <th>90</th>\n",
       "    </tr>\n",
       "  </thead>\n",
       "  <tbody>\n",
       "    <tr>\n",
       "      <th>197</th>\n",
       "      <td>11</td>\n",
       "      <td>0.51</td>\n",
       "      <td>33000.0</td>\n",
       "      <td>3</td>\n",
       "      <td>2</td>\n",
       "      <td>2</td>\n",
       "      <td>0.0</td>\n",
       "      <td>0.0</td>\n",
       "      <td>0.0</td>\n",
       "      <td>0.0</td>\n",
       "      <td>...</td>\n",
       "      <td>0.0</td>\n",
       "      <td>0.0</td>\n",
       "      <td>0.0</td>\n",
       "      <td>0.0</td>\n",
       "      <td>0.0</td>\n",
       "      <td>0.0</td>\n",
       "      <td>0.0</td>\n",
       "      <td>0.0</td>\n",
       "      <td>0.0</td>\n",
       "      <td>0.0</td>\n",
       "    </tr>\n",
       "    <tr>\n",
       "      <th>202</th>\n",
       "      <td>6</td>\n",
       "      <td>5.70</td>\n",
       "      <td>28200.0</td>\n",
       "      <td>3</td>\n",
       "      <td>1</td>\n",
       "      <td>2</td>\n",
       "      <td>0.0</td>\n",
       "      <td>0.0</td>\n",
       "      <td>0.0</td>\n",
       "      <td>0.0</td>\n",
       "      <td>...</td>\n",
       "      <td>0.0</td>\n",
       "      <td>0.0</td>\n",
       "      <td>0.0</td>\n",
       "      <td>0.0</td>\n",
       "      <td>0.0</td>\n",
       "      <td>0.0</td>\n",
       "      <td>0.0</td>\n",
       "      <td>0.0</td>\n",
       "      <td>0.0</td>\n",
       "      <td>0.0</td>\n",
       "    </tr>\n",
       "    <tr>\n",
       "      <th>59</th>\n",
       "      <td>7</td>\n",
       "      <td>35.96</td>\n",
       "      <td>41000.0</td>\n",
       "      <td>1</td>\n",
       "      <td>1</td>\n",
       "      <td>1</td>\n",
       "      <td>0.0</td>\n",
       "      <td>0.0</td>\n",
       "      <td>0.0</td>\n",
       "      <td>0.0</td>\n",
       "      <td>...</td>\n",
       "      <td>0.0</td>\n",
       "      <td>0.0</td>\n",
       "      <td>0.0</td>\n",
       "      <td>0.0</td>\n",
       "      <td>0.0</td>\n",
       "      <td>0.0</td>\n",
       "      <td>0.0</td>\n",
       "      <td>1.0</td>\n",
       "      <td>0.0</td>\n",
       "      <td>0.0</td>\n",
       "    </tr>\n",
       "    <tr>\n",
       "      <th>51</th>\n",
       "      <td>6</td>\n",
       "      <td>30.61</td>\n",
       "      <td>40000.0</td>\n",
       "      <td>1</td>\n",
       "      <td>1</td>\n",
       "      <td>1</td>\n",
       "      <td>0.0</td>\n",
       "      <td>0.0</td>\n",
       "      <td>0.0</td>\n",
       "      <td>0.0</td>\n",
       "      <td>...</td>\n",
       "      <td>0.0</td>\n",
       "      <td>0.0</td>\n",
       "      <td>0.0</td>\n",
       "      <td>0.0</td>\n",
       "      <td>0.0</td>\n",
       "      <td>0.0</td>\n",
       "      <td>0.0</td>\n",
       "      <td>1.0</td>\n",
       "      <td>0.0</td>\n",
       "      <td>0.0</td>\n",
       "    </tr>\n",
       "    <tr>\n",
       "      <th>89</th>\n",
       "      <td>7</td>\n",
       "      <td>6.76</td>\n",
       "      <td>40000.0</td>\n",
       "      <td>3</td>\n",
       "      <td>1</td>\n",
       "      <td>2</td>\n",
       "      <td>0.0</td>\n",
       "      <td>0.0</td>\n",
       "      <td>0.0</td>\n",
       "      <td>0.0</td>\n",
       "      <td>...</td>\n",
       "      <td>0.0</td>\n",
       "      <td>0.0</td>\n",
       "      <td>0.0</td>\n",
       "      <td>0.0</td>\n",
       "      <td>0.0</td>\n",
       "      <td>0.0</td>\n",
       "      <td>0.0</td>\n",
       "      <td>0.0</td>\n",
       "      <td>0.0</td>\n",
       "      <td>0.0</td>\n",
       "    </tr>\n",
       "  </tbody>\n",
       "</table>\n",
       "<p>5 rows × 24 columns</p>\n",
       "</div>"
      ],
      "text/plain": [
       "     Year  Present_Price  Kms_Driven  Fuel_Type  Seller_Type  Transmission  \\\n",
       "197    11           0.51     33000.0          3            2             2   \n",
       "202     6           5.70     28200.0          3            1             2   \n",
       "59      7          35.96     41000.0          1            1             1   \n",
       "51      6          30.61     40000.0          1            1             1   \n",
       "89      7           6.76     40000.0          3            1             2   \n",
       "\n",
       "       0   14   27   28  ...   61   64   65   67   68   70   71   77   82   90  \n",
       "197  0.0  0.0  0.0  0.0  ...  0.0  0.0  0.0  0.0  0.0  0.0  0.0  0.0  0.0  0.0  \n",
       "202  0.0  0.0  0.0  0.0  ...  0.0  0.0  0.0  0.0  0.0  0.0  0.0  0.0  0.0  0.0  \n",
       "59   0.0  0.0  0.0  0.0  ...  0.0  0.0  0.0  0.0  0.0  0.0  0.0  1.0  0.0  0.0  \n",
       "51   0.0  0.0  0.0  0.0  ...  0.0  0.0  0.0  0.0  0.0  0.0  0.0  1.0  0.0  0.0  \n",
       "89   0.0  0.0  0.0  0.0  ...  0.0  0.0  0.0  0.0  0.0  0.0  0.0  0.0  0.0  0.0  \n",
       "\n",
       "[5 rows x 24 columns]"
      ]
     },
     "execution_count": 41,
     "metadata": {},
     "output_type": "execute_result"
    }
   ],
   "source": [
    "x_train_final.head()"
   ]
  },
  {
   "cell_type": "markdown",
   "id": "986cb6b6",
   "metadata": {
    "papermill": {
     "duration": 0.065132,
     "end_time": "2021-09-14T15:33:59.258112",
     "exception": false,
     "start_time": "2021-09-14T15:33:59.192980",
     "status": "completed"
    },
    "tags": []
   },
   "source": [
    "#### Hyper-parameter Tuning"
   ]
  },
  {
   "cell_type": "code",
   "execution_count": 42,
   "id": "5d3a5184",
   "metadata": {
    "execution": {
     "iopub.execute_input": "2021-09-14T15:33:59.400474Z",
     "iopub.status.busy": "2021-09-14T15:33:59.399854Z",
     "iopub.status.idle": "2021-09-14T15:33:59.403094Z",
     "shell.execute_reply": "2021-09-14T15:33:59.402649Z",
     "shell.execute_reply.started": "2021-09-14T15:26:21.535397Z"
    },
    "papermill": {
     "duration": 0.079072,
     "end_time": "2021-09-14T15:33:59.403210",
     "exception": false,
     "start_time": "2021-09-14T15:33:59.324138",
     "status": "completed"
    },
    "tags": []
   },
   "outputs": [],
   "source": [
    "params_ET_RF = {\n",
    "'n_jobs' : [-1],\n",
    "'n_estimators' : [100, 200, 300, 400, 500, 600, 700, 800, 900, 1000, 1100, 1200],\n",
    "'criterion' : ['mse', 'mae'],\n",
    "'max_depth' : [5, 10, 15, 20, 25, 30],\n",
    "'max_features' : ['auto', 'sqrt'],\n",
    "'min_samples_split' : [2, 5, 10, 15, 100],\n",
    "'min_samples_leaf' : [1, 2, 5, 10]\n",
    "}\n",
    "\n",
    "params_XGBRegressor = {\n",
    "'n_jobs' : [-1],\n",
    "'learning_rate' : [0.05, 0.1, 0.15, 0.2, 0.25, 0.3],\n",
    "'max_depth' : [3,4,5,6,8,10,12,15],\n",
    "'n_estimators' : [100, 200, 300, 400, 500, 600, 700, 800, 900, 1000, 1100, 1200],\n",
    "\"min_child_weight\" : [1,3,5,7],\n",
    "\"gamma\" : [0.0, 0.1, 0.2, 0.3, 0.4],\n",
    "\"colsample_bytree\" : [0.3, 0.4, 0.5, 0.6]\n",
    "}\n"
   ]
  },
  {
   "cell_type": "code",
   "execution_count": 43,
   "id": "f2906299",
   "metadata": {
    "execution": {
     "iopub.execute_input": "2021-09-14T15:33:59.546307Z",
     "iopub.status.busy": "2021-09-14T15:33:59.545562Z",
     "iopub.status.idle": "2021-09-14T15:36:23.221706Z",
     "shell.execute_reply": "2021-09-14T15:36:23.222340Z",
     "shell.execute_reply.started": "2021-09-14T15:26:53.891463Z"
    },
    "papermill": {
     "duration": 143.752295,
     "end_time": "2021-09-14T15:36:23.222542",
     "exception": false,
     "start_time": "2021-09-14T15:33:59.470247",
     "status": "completed"
    },
    "tags": []
   },
   "outputs": [
    {
     "name": "stdout",
     "output_type": "stream",
     "text": [
      "************ ExtraTreesRegressor ************\n",
      "Best estimators: \n",
      " ExtraTreesRegressor(criterion='mae', max_depth=25, max_features='sqrt',\n",
      "                    min_samples_split=5, n_estimators=400, n_jobs=-1)\n",
      "\n",
      "Best score: \n",
      " -4.5218445603975805\n",
      "\n",
      "Best parameters: \n",
      " {'n_jobs': -1, 'n_estimators': 400, 'min_samples_split': 5, 'min_samples_leaf': 1, 'max_features': 'sqrt', 'max_depth': 25, 'criterion': 'mae'}\n",
      "\n",
      "\n",
      "************ RandomForestRegressor ************\n",
      "Best estimators: \n",
      " RandomForestRegressor(max_depth=30, min_samples_split=10, n_jobs=-1)\n",
      "\n",
      "Best score: \n",
      " -3.7417080200209027\n",
      "\n",
      "Best parameters: \n",
      " {'n_jobs': -1, 'n_estimators': 100, 'min_samples_split': 10, 'min_samples_leaf': 1, 'max_features': 'auto', 'max_depth': 30, 'criterion': 'mse'}\n",
      "\n",
      "\n",
      "************ XGBRegressor ************\n",
      "Best estimators: \n",
      " XGBRegressor(base_score=0.5, booster='gbtree', colsample_bylevel=1,\n",
      "             colsample_bynode=1, colsample_bytree=0.5, gamma=0.2, gpu_id=-1,\n",
      "             importance_type='gain', interaction_constraints='',\n",
      "             learning_rate=0.1, max_delta_step=0, max_depth=10,\n",
      "             min_child_weight=1, missing=nan, monotone_constraints='()',\n",
      "             n_estimators=500, n_jobs=-1, num_parallel_tree=1, random_state=0,\n",
      "             reg_alpha=0, reg_lambda=1, scale_pos_weight=1, subsample=1,\n",
      "             tree_method='exact', validate_parameters=1, verbosity=None)\n",
      "\n",
      "Best score: \n",
      " -4.36842166039055\n",
      "\n",
      "Best parameters: \n",
      " {'n_jobs': -1, 'n_estimators': 500, 'min_child_weight': 1, 'max_depth': 10, 'learning_rate': 0.1, 'gamma': 0.2, 'colsample_bytree': 0.5}\n",
      "\n",
      "\n"
     ]
    }
   ],
   "source": [
    "regressors = [ExtraTreesRegressor(), RandomForestRegressor(), xgb.XGBRegressor()]\n",
    "params = [params_ET_RF, params_ET_RF, params_XGBRegressor]\n",
    "names = ['ExtraTreesRegressor', 'RandomForestRegressor', 'XGBRegressor']\n",
    "# looping through each regressor\n",
    "for i in range(3):\n",
    "    cv_regressor = RandomizedSearchCV(regressors[i], param_distributions = params[i], n_iter = 5, scoring = 'neg_mean_squared_error', n_jobs=-1, cv = 5)\n",
    "    # scorings='roc_auc' for classification problems\n",
    "    # scorings='neg_mean_squared_error' for regression problems\n",
    "\n",
    "    cv_regressor.fit(x_train_final,y_train)\n",
    "\n",
    "    print(\"************\",names[i],\"************\")\n",
    "    print(\"Best estimators: \\n {}\".format(cv_regressor.best_estimator_))\n",
    "    print()\n",
    "    print(\"Best score: \\n {}\".format(cv_regressor.best_score_))\n",
    "    print()\n",
    "    print(\"Best parameters: \\n {}\".format(cv_regressor.best_params_))\n",
    "    print()\n",
    "    print()"
   ]
  },
  {
   "cell_type": "markdown",
   "id": "28da84f5",
   "metadata": {
    "papermill": {
     "duration": 0.064942,
     "end_time": "2021-09-14T15:36:23.353973",
     "exception": false,
     "start_time": "2021-09-14T15:36:23.289031",
     "status": "completed"
    },
    "tags": []
   },
   "source": [
    "##### XGBRegressor performed best"
   ]
  },
  {
   "cell_type": "markdown",
   "id": "1de4060d",
   "metadata": {
    "papermill": {
     "duration": 0.065444,
     "end_time": "2021-09-14T15:36:23.485281",
     "exception": false,
     "start_time": "2021-09-14T15:36:23.419837",
     "status": "completed"
    },
    "tags": []
   },
   "source": [
    "### Final Prediction"
   ]
  },
  {
   "cell_type": "code",
   "execution_count": 44,
   "id": "1e579086",
   "metadata": {
    "execution": {
     "iopub.execute_input": "2021-09-14T15:36:23.632124Z",
     "iopub.status.busy": "2021-09-14T15:36:23.631555Z",
     "iopub.status.idle": "2021-09-14T15:36:24.425546Z",
     "shell.execute_reply": "2021-09-14T15:36:24.424917Z",
     "shell.execute_reply.started": "2021-09-14T15:32:46.278368Z"
    },
    "papermill": {
     "duration": 0.875401,
     "end_time": "2021-09-14T15:36:24.425682",
     "exception": false,
     "start_time": "2021-09-14T15:36:23.550281",
     "status": "completed"
    },
    "tags": []
   },
   "outputs": [],
   "source": [
    "# defination of final model\n",
    "final_model = xgb.XGBRegressor(base_score=0.5, booster='gbtree', colsample_bylevel=1,\n",
    "             colsample_bynode=1, colsample_bytree=0.3, gamma=0.3, gpu_id=-1,\n",
    "             importance_type='gain', interaction_constraints='',\n",
    "             learning_rate=0.05, max_delta_step=0, max_depth=3,\n",
    "             min_child_weight=5,  monotone_constraints='()',\n",
    "             n_estimators=1100, n_jobs=-1, num_parallel_tree=1, random_state=0,\n",
    "             reg_alpha=0, reg_lambda=1, scale_pos_weight=1, subsample=1,\n",
    "             tree_method='exact', validate_parameters=1, verbosity=None)\n",
    "\n",
    "# fitting and prediction\n",
    "final_model.fit(x_train_final, y_train)\n",
    "predictions = final_model.predict(x_test_final)"
   ]
  },
  {
   "cell_type": "markdown",
   "id": "c8de8e50",
   "metadata": {
    "papermill": {
     "duration": 0.065075,
     "end_time": "2021-09-14T15:36:24.557735",
     "exception": false,
     "start_time": "2021-09-14T15:36:24.492660",
     "status": "completed"
    },
    "tags": []
   },
   "source": [
    "## Performance Metrics"
   ]
  },
  {
   "cell_type": "code",
   "execution_count": 45,
   "id": "b90190cc",
   "metadata": {
    "execution": {
     "iopub.execute_input": "2021-09-14T15:36:24.700596Z",
     "iopub.status.busy": "2021-09-14T15:36:24.699296Z",
     "iopub.status.idle": "2021-09-14T15:36:24.747660Z",
     "shell.execute_reply": "2021-09-14T15:36:24.747242Z",
     "shell.execute_reply.started": "2021-09-14T15:33:15.978960Z"
    },
    "papermill": {
     "duration": 0.124748,
     "end_time": "2021-09-14T15:36:24.747778",
     "exception": false,
     "start_time": "2021-09-14T15:36:24.623030",
     "status": "completed"
    },
    "tags": []
   },
   "outputs": [
    {
     "name": "stdout",
     "output_type": "stream",
     "text": [
      "MAE: 0.8275096783907183\n",
      "MSE: 2.2146206745802117\n",
      "RMSE: 1.4881601642901923\n"
     ]
    }
   ],
   "source": [
    "from sklearn import metrics\n",
    "\n",
    "# performance metrices\n",
    "print('MAE:', metrics.mean_absolute_error(y_test, predictions))\n",
    "print('MSE:', metrics.mean_squared_error(y_test, predictions))\n",
    "print('RMSE:', np.sqrt(metrics.mean_squared_error(y_test, predictions)))\n",
    "\n",
    "\n",
    "import pickle\n",
    "# open a file, where you ant to store the data\n",
    "file = open('final_model.pkl', 'wb')\n",
    "\n",
    "# dump information to that file\n",
    "pickle.dump(final_model, file)"
   ]
  },
  {
   "cell_type": "code",
   "execution_count": null,
   "id": "68206131",
   "metadata": {
    "papermill": {
     "duration": 0.067028,
     "end_time": "2021-09-14T15:36:24.882161",
     "exception": false,
     "start_time": "2021-09-14T15:36:24.815133",
     "status": "completed"
    },
    "tags": []
   },
   "outputs": [],
   "source": []
  }
 ],
 "metadata": {
  "kernelspec": {
   "display_name": "Python 3",
   "language": "python",
   "name": "python3"
  },
  "language_info": {
   "codemirror_mode": {
    "name": "ipython",
    "version": 3
   },
   "file_extension": ".py",
   "mimetype": "text/x-python",
   "name": "python",
   "nbconvert_exporter": "python",
   "pygments_lexer": "ipython3",
   "version": "3.7.10"
  },
  "papermill": {
   "default_parameters": {},
   "duration": 170.757088,
   "end_time": "2021-09-14T15:36:26.395972",
   "environment_variables": {},
   "exception": null,
   "input_path": "__notebook__.ipynb",
   "output_path": "__notebook__.ipynb",
   "parameters": {},
   "start_time": "2021-09-14T15:33:35.638884",
   "version": "2.3.3"
  }
 },
 "nbformat": 4,
 "nbformat_minor": 5
}
